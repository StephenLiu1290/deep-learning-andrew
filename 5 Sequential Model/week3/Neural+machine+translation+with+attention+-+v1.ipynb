{
 "cells": [
  {
   "cell_type": "markdown",
   "metadata": {},
   "source": [
    "# Neural Machine Translation\n",
    "\n",
    "Welcome to your first programming assignment for this week! \n",
    "\n",
    "You will build a Neural Machine Translation (NMT) model to translate human readable dates (\"25th of June, 2009\") into machine readable dates (\"2009-06-25\"). You will do this using an attention model, one of the most sophisticated sequence to sequence models. \n",
    "\n",
    "This notebook was produced together with NVIDIA's Deep Learning Institute. \n",
    "\n",
    "Let's load all the packages you will need for this assignment."
   ]
  },
  {
   "cell_type": "code",
   "execution_count": 3,
   "metadata": {},
   "outputs": [],
   "source": [
    "from keras.layers import Bidirectional, Concatenate, Permute, Dot, Input, LSTM, Multiply\n",
    "from keras.layers import RepeatVector, Dense, Activation, Lambda\n",
    "from keras.optimizers import Adam\n",
    "from keras.utils import to_categorical\n",
    "from keras.models import load_model, Model\n",
    "import keras.backend as K\n",
    "import numpy as np\n",
    "\n",
    "from faker import Faker\n",
    "import random\n",
    "from tqdm import tqdm\n",
    "from babel.dates import format_date\n",
    "from nmt_utils import *\n",
    "import matplotlib.pyplot as plt\n",
    "%matplotlib inline"
   ]
  },
  {
   "cell_type": "markdown",
   "metadata": {},
   "source": [
    "## 1 - Translating human readable dates into machine readable dates\n",
    "\n",
    "The model you will build here could be used to translate from one language to another, such as translating from English to Hindi. However, language translation requires massive datasets and usually takes days of training on GPUs. To give you a place to experiment with these models even without using massive datasets, we will instead use a simpler \"date translation\" task. \n",
    "\n",
    "The network will input a date written in a variety of possible formats (*e.g. \"the 29th of August 1958\", \"03/30/1968\", \"24 JUNE 1987\"*) and translate them into standardized, machine readable dates (*e.g. \"1958-08-29\", \"1968-03-30\", \"1987-06-24\"*). We will have the network learn to output dates in the common machine-readable format YYYY-MM-DD. \n",
    "\n",
    "\n",
    "\n",
    "<!-- \n",
    "Take a look at [nmt_utils.py](./nmt_utils.py) to see all the formatting. Count and figure out how the formats work, you will need this knowledge later. !--> "
   ]
  },
  {
   "cell_type": "markdown",
   "metadata": {},
   "source": [
    "### 1.1 - Dataset\n",
    "\n",
    "We will train the model on a dataset of 10000 human readable dates and their equivalent, standardized, machine readable dates. Let's run the following cells to load the dataset and print some examples. "
   ]
  },
  {
   "cell_type": "code",
   "execution_count": 4,
   "metadata": {},
   "outputs": [
    {
     "name": "stderr",
     "output_type": "stream",
     "text": [
      "100%|█████████████████████████████████| 10000/10000 [00:00<00:00, 21231.41it/s]\n"
     ]
    }
   ],
   "source": [
    "m = 10000\n",
    "dataset, human_vocab, machine_vocab, inv_machine_vocab = load_dataset(m)"
   ]
  },
  {
   "cell_type": "code",
   "execution_count": 19,
   "metadata": {},
   "outputs": [
    {
     "data": {
      "text/plain": [
       "[('9 may 1998', '1998-05-09'),\n",
       " ('10.09.70', '1970-09-10'),\n",
       " ('4/28/90', '1990-04-28'),\n",
       " ('thursday january 26 1995', '1995-01-26'),\n",
       " ('monday march 7 1983', '1983-03-07'),\n",
       " ('sunday may 22 1988', '1988-05-22'),\n",
       " ('tuesday july 8 2008', '2008-07-08'),\n",
       " ('08 sep 1999', '1999-09-08'),\n",
       " ('1 jan 1981', '1981-01-01'),\n",
       " ('monday may 22 1995', '1995-05-22')]"
      ]
     },
     "execution_count": 19,
     "metadata": {},
     "output_type": "execute_result"
    }
   ],
   "source": [
    "# dataset[:10]\n",
    "# tuple('asdfqrewfasfd')\n",
    "# human_vocab\n",
    "# inv_machine_vocab"
   ]
  },
  {
   "cell_type": "markdown",
   "metadata": {},
   "source": [
    "You've loaded:\n",
    "- `dataset`: a list of tuples of (human readable date, machine readable date)\n",
    "- `human_vocab`: a python dictionary mapping all characters used in the human readable dates to an integer-valued index \n",
    "- `machine_vocab`: a python dictionary mapping all characters used in machine readable dates to an integer-valued index. These indices are not necessarily consistent with `human_vocab`. \n",
    "- `inv_machine_vocab`: the inverse dictionary of `machine_vocab`, mapping from indices back to characters. \n",
    "\n",
    "Let's preprocess the data and map the raw text data into the index values. We will also use Tx=30 (which we assume is the maximum length of the human readable date; if we get a longer input, we would have to truncate it) and Ty=10 (since \"YYYY-MM-DD\" is 10 characters long). "
   ]
  },
  {
   "cell_type": "code",
   "execution_count": 37,
   "metadata": {},
   "outputs": [
    {
     "name": "stdout",
     "output_type": "stream",
     "text": [
      "X.shape: (10000, 30)\n",
      "Y.shape: (10000, 10)\n",
      "Xoh.shape: (10000, 30, 37)\n",
      "Yoh.shape: (10000, 10, 11)\n"
     ]
    }
   ],
   "source": [
    "Tx = 30\n",
    "Ty = 10\n",
    "X, Y, Xoh, Yoh = preprocess_data(dataset, human_vocab, machine_vocab, Tx, Ty)\n",
    "\n",
    "print(\"X.shape:\", X.shape)\n",
    "print(\"Y.shape:\", Y.shape)\n",
    "print(\"Xoh.shape:\", Xoh.shape)\n",
    "print(\"Yoh.shape:\", Yoh.shape)"
   ]
  },
  {
   "cell_type": "markdown",
   "metadata": {},
   "source": [
    "You now have:\n",
    "- `X`: a processed version of the human readable dates in the training set, where each character is replaced by an index mapped to the character via `human_vocab`. Each date is further padded to $T_x$ values with a special character (< pad >). `X.shape = (m, Tx)`\n",
    "- `Y`: a processed version of the machine readable dates in the training set, where each character is replaced by the index it is mapped to in `machine_vocab`. You should have `Y.shape = (m, Ty)`. \n",
    "- `Xoh`: one-hot version of `X`, the \"1\" entry's index is mapped to the character thanks to `human_vocab`. `Xoh.shape = (m, Tx, len(human_vocab))`\n",
    "- `Yoh`: one-hot version of `Y`, the \"1\" entry's index is mapped to the character thanks to `machine_vocab`. `Yoh.shape = (m, Tx, len(machine_vocab))`. Here, `len(machine_vocab) = 11` since there are 11 characters ('-' as well as 0-9). \n"
   ]
  },
  {
   "cell_type": "markdown",
   "metadata": {},
   "source": [
    "Lets also look at some examples of preprocessed training examples. Feel free to play with `index` in the cell below to navigate the dataset and see how source/target dates are preprocessed. "
   ]
  },
  {
   "cell_type": "code",
   "execution_count": 39,
   "metadata": {},
   "outputs": [
    {
     "name": "stdout",
     "output_type": "stream",
     "text": [
      "Source date: 9 may 1998\n",
      "Target date: 1998-05-09\n",
      "\n",
      "Source after preprocessing (indices): [12  0 24 13 34  0  4 12 12 11 36 36 36 36 36 36 36 36 36 36 36 36 36 36\n",
      " 36 36 36 36 36 36]\n",
      "Target after preprocessing (indices): [ 2 10 10  9  0  1  6  0  1 10]\n",
      "\n",
      "Source after preprocessing (one-hot): [[0. 0. 0. ... 0. 0. 0.]\n",
      " [1. 0. 0. ... 0. 0. 0.]\n",
      " [0. 0. 0. ... 0. 0. 0.]\n",
      " ...\n",
      " [0. 0. 0. ... 0. 0. 1.]\n",
      " [0. 0. 0. ... 0. 0. 1.]\n",
      " [0. 0. 0. ... 0. 0. 1.]]\n",
      "Target after preprocessing (one-hot): [[0. 0. 1. 0. 0. 0. 0. 0. 0. 0. 0.]\n",
      " [0. 0. 0. 0. 0. 0. 0. 0. 0. 0. 1.]\n",
      " [0. 0. 0. 0. 0. 0. 0. 0. 0. 0. 1.]\n",
      " [0. 0. 0. 0. 0. 0. 0. 0. 0. 1. 0.]\n",
      " [1. 0. 0. 0. 0. 0. 0. 0. 0. 0. 0.]\n",
      " [0. 1. 0. 0. 0. 0. 0. 0. 0. 0. 0.]\n",
      " [0. 0. 0. 0. 0. 0. 1. 0. 0. 0. 0.]\n",
      " [1. 0. 0. 0. 0. 0. 0. 0. 0. 0. 0.]\n",
      " [0. 1. 0. 0. 0. 0. 0. 0. 0. 0. 0.]\n",
      " [0. 0. 0. 0. 0. 0. 0. 0. 0. 0. 1.]]\n"
     ]
    }
   ],
   "source": [
    "index = 0\n",
    "print(\"Source date:\", dataset[index][0])\n",
    "print(\"Target date:\", dataset[index][1])\n",
    "print()\n",
    "print(\"Source after preprocessing (indices):\", X[index])\n",
    "print(\"Target after preprocessing (indices):\", Y[index])\n",
    "print()\n",
    "print(\"Source after preprocessing (one-hot):\", Xoh[index])\n",
    "print(\"Target after preprocessing (one-hot):\", Yoh[index])"
   ]
  },
  {
   "cell_type": "markdown",
   "metadata": {},
   "source": [
    "## 2 - Neural machine translation with attention\n",
    "\n",
    "If you had to translate a book's paragraph from French to English, you would not read the whole paragraph, then close the book and translate. Even during the translation process, you would read/re-read and focus on the parts of the French paragraph corresponding to the parts of the English you are writing down. \n",
    "\n",
    "The attention mechanism tells a Neural Machine Translation model where it should pay attention to at any step. \n",
    "\n",
    "\n",
    "### 2.1 - Attention mechanism\n",
    "\n",
    "In this part, you will implement the attention mechanism presented in the lecture videos. Here is a figure to remind you how the model works. The diagram on the left shows the attention model. The diagram on the right shows what one \"Attention\" step does to calculate the attention variables $\\alpha^{\\langle t, t' \\rangle}$, which are used to compute the context variable $context^{\\langle t \\rangle}$ for each timestep in the output ($t=1, \\ldots, T_y$). \n",
    "\n",
    "<table>\n",
    "<td> \n",
    "<img src=\"images/attn_model.png\" style=\"width:500;height:500px;\"> <br>\n",
    "</td> \n",
    "<td> \n",
    "<img src=\"images/attn_mechanism.png\" style=\"width:500;height:500px;\"> <br>\n",
    "</td> \n",
    "</table>\n",
    "<caption><center> **Figure 1**: Neural machine translation with attention</center></caption>\n"
   ]
  },
  {
   "cell_type": "markdown",
   "metadata": {},
   "source": [
    "\n",
    "Here are some properties of the model that you may notice: \n",
    "\n",
    "- There are two separate LSTMs in this model (see diagram on the left). Because the one at the bottom of the picture is a Bi-directional LSTM and comes *before* the attention mechanism, we will call it *pre-attention* Bi-LSTM. The LSTM at the top of the diagram comes *after* the attention mechanism, so we will call it the *post-attention* LSTM. The pre-attention Bi-LSTM goes through $T_x$ time steps; the post-attention LSTM goes through $T_y$ time steps. \n",
    "\n",
    "- The post-attention LSTM passes $s^{\\langle t \\rangle}, c^{\\langle t \\rangle}$ from one time step to the next. In the lecture videos, we were using only a basic RNN for the post-activation sequence model, so the state captured by the RNN output activations $s^{\\langle t\\rangle}$. But since we are using an LSTM here, the LSTM has both the output activation $s^{\\langle t\\rangle}$ and the hidden cell state $c^{\\langle t\\rangle}$. However, unlike previous text generation examples (such as Dinosaurus in week 1), in this model the post-activation LSTM at time $t$ does will not take the specific generated $y^{\\langle t-1 \\rangle}$ as input; it only takes $s^{\\langle t\\rangle}$ and $c^{\\langle t\\rangle}$ as input. We have designed the model this way, because (unlike language generation where adjacent characters are highly correlated) there isn't as strong a dependency between the previous character and the next character in a YYYY-MM-DD date. \n",
    "\n",
    "- We use $a^{\\langle t \\rangle} = [\\overrightarrow{a}^{\\langle t \\rangle}; \\overleftarrow{a}^{\\langle t \\rangle}]$ to represent the concatenation of the activations of both the forward-direction and backward-directions of the pre-attention Bi-LSTM. \n",
    "\n",
    "- The diagram on the right uses a `RepeatVector` node to copy $s^{\\langle t-1 \\rangle}$'s value $T_x$ times, and then `Concatenation` to concatenate $s^{\\langle t-1 \\rangle}$ and $a^{\\langle t \\rangle}$ to compute $e^{\\langle t, t'}$, which is then passed through a softmax to compute $\\alpha^{\\langle t, t' \\rangle}$. We'll explain how to use `RepeatVector` and `Concatenation` in Keras below. \n",
    "\n",
    "Lets implement this model. You will start by implementing two functions: `one_step_attention()` and `model()`.\n",
    "\n",
    "**1) `one_step_attention()`**: At step $t$, given all the hidden states of the Bi-LSTM ($[a^{<1>},a^{<2>}, ..., a^{<T_x>}]$) and the previous hidden state of the second LSTM ($s^{<t-1>}$), `one_step_attention()` will compute the attention weights ($[\\alpha^{<t,1>},\\alpha^{<t,2>}, ..., \\alpha^{<t,T_x>}]$) and output the context vector (see Figure  1 (right) for details):\n",
    "$$context^{<t>} = \\sum_{t' = 0}^{T_x} \\alpha^{<t,t'>}a^{<t'>}\\tag{1}$$ \n",
    "\n",
    "Note that we are denoting the attention in this notebook $context^{\\langle t \\rangle}$. In the lecture videos, the context was denoted $c^{\\langle t \\rangle}$, but here we are calling it $context^{\\langle t \\rangle}$ to avoid confusion with the (post-attention) LSTM's internal memory cell variable, which is sometimes also denoted $c^{\\langle t \\rangle}$. \n",
    "  \n",
    "**2) `model()`**: Implements the entire model. It first runs the input through a Bi-LSTM to get back $[a^{<1>},a^{<2>}, ..., a^{<T_x>}]$. Then, it calls `one_step_attention()` $T_y$ times (`for` loop). At each iteration of this loop, it gives the computed context vector $c^{<t>}$ to the second LSTM, and runs the output of the LSTM through a dense layer with softmax activation to generate a prediction $\\hat{y}^{<t>}$. \n",
    "\n",
    "\n",
    "\n",
    "**Exercise**: Implement `one_step_attention()`. The function `model()` will call the layers in `one_step_attention()` $T_y$ using a for-loop, and it is important that all $T_y$ copies have the same weights. I.e., it should not re-initiaiize the weights every time. In other words, all $T_y$ steps should have shared weights. Here's how you can implement layers with shareable weights in Keras:\n",
    "1. Define the layer objects (as global variables for examples).\n",
    "2. Call these objects when propagating the input.\n",
    "\n",
    "We have defined the layers you need as global variables. Please run the following cells to create them. Please check the Keras documentation to make sure you understand what these layers are: [RepeatVector()](https://keras.io/layers/core/#repeatvector), [Concatenate()](https://keras.io/layers/merge/#concatenate), [Dense()](https://keras.io/layers/core/#dense), [Activation()](https://keras.io/layers/core/#activation), [Dot()](https://keras.io/layers/merge/#dot)."
   ]
  },
  {
   "cell_type": "code",
   "execution_count": 40,
   "metadata": {},
   "outputs": [],
   "source": [
    "# Defined shared layers as global variables\n",
    "repeator = RepeatVector(Tx)\n",
    "concatenator = Concatenate(axis=-1)\n",
    "densor1 = Dense(10, activation = \"tanh\")\n",
    "densor2 = Dense(1, activation = \"relu\")\n",
    "activator = Activation(softmax, name='attention_weights') # We are using a custom softmax(axis = 1) loaded in this notebook\n",
    "dotor = Dot(axes = 1)"
   ]
  },
  {
   "cell_type": "markdown",
   "metadata": {},
   "source": [
    "Now you can use these layers to implement `one_step_attention()`. In order to propagate a Keras tensor object X through one of these layers, use `layer(X)` (or `layer([X,Y])` if it requires multiple inputs.), e.g. `densor(X)` will propagate X through the `Dense(1)` layer defined above."
   ]
  },
  {
   "cell_type": "code",
   "execution_count": 41,
   "metadata": {},
   "outputs": [],
   "source": [
    "# GRADED FUNCTION: one_step_attention\n",
    "\n",
    "def one_step_attention(a, s_prev):\n",
    "    \"\"\"\n",
    "    Performs one step of attention: Outputs a context vector computed as a dot product of the attention weights\n",
    "    \"alphas\" and the hidden states \"a\" of the Bi-LSTM.\n",
    "    \n",
    "    Arguments:\n",
    "    a -- hidden state output of the Bi-LSTM, numpy-array of shape (m, Tx, 2*n_a)\n",
    "    s_prev -- previous hidden state of the (post-attention) LSTM, numpy-array of shape (m, n_s)\n",
    "    \n",
    "    Returns:\n",
    "    context -- context vector, input of the next (post-attetion) LSTM cell\n",
    "    \"\"\"\n",
    "    \n",
    "    ### START CODE HERE ###\n",
    "    # Use repeator to repeat s_prev to be of shape (m, Tx, n_s) so that you can concatenate it with all hidden states \"a\" (≈ 1 line)\n",
    "    s_prev = repeator(s_prev)\n",
    "    # Use concatenator to concatenate a and s_prev on the last axis (≈ 1 line)\n",
    "    concat = concatenator([a, s_prev])\n",
    "    # Use densor1 to propagate concat through a small fully-connected neural network to compute the \"intermediate energies\" variable e. (≈1 lines)\n",
    "    e = densor1(concat)\n",
    "    # Use densor2 to propagate e through a small fully-connected neural network to compute the \"energies\" variable energies. (≈1 lines)\n",
    "    energies = densor2(e)\n",
    "    # Use \"activator\" on \"energies\" to compute the attention weights \"alphas\" (≈ 1 line)\n",
    "    alphas = activator(energies)\n",
    "    # Use dotor together with \"alphas\" and \"a\" to compute the context vector to be given to the next (post-attention) LSTM-cell (≈ 1 line)\n",
    "    context = dotor([alphas, a])\n",
    "    ### END CODE HERE ###\n",
    "    \n",
    "    return context"
   ]
  },
  {
   "cell_type": "markdown",
   "metadata": {},
   "source": [
    "You will be able to check the expected output of `one_step_attention()` after you've coded the `model()` function."
   ]
  },
  {
   "cell_type": "markdown",
   "metadata": {},
   "source": [
    "**Exercise**: Implement `model()` as explained in figure 2 and the text above. Again, we have defined global layers that will share weights to be used in `model()`."
   ]
  },
  {
   "cell_type": "code",
   "execution_count": 42,
   "metadata": {},
   "outputs": [],
   "source": [
    "n_a = 32\n",
    "n_s = 64\n",
    "post_activation_LSTM_cell = LSTM(n_s, return_state = True)\n",
    "output_layer = Dense(len(machine_vocab), activation=softmax)"
   ]
  },
  {
   "cell_type": "markdown",
   "metadata": {},
   "source": [
    "Now you can use these layers $T_y$ times in a `for` loop to generate the outputs, and their parameters will not be reinitialized. You will have to carry out the following steps: \n",
    "\n",
    "1. Propagate the input into a [Bidirectional](https://keras.io/layers/wrappers/#bidirectional) [LSTM](https://keras.io/layers/recurrent/#lstm)\n",
    "2. Iterate for $t = 0, \\dots, T_y-1$: \n",
    "    1. Call `one_step_attention()` on $[\\alpha^{<t,1>},\\alpha^{<t,2>}, ..., \\alpha^{<t,T_x>}]$ and $s^{<t-1>}$ to get the context vector $context^{<t>}$.\n",
    "    2. Give $context^{<t>}$ to the post-attention LSTM cell. Remember pass in the previous hidden-state $s^{\\langle t-1\\rangle}$ and cell-states $c^{\\langle t-1\\rangle}$ of this LSTM using `initial_state= [previous hidden state, previous cell state]`. Get back the new hidden state $s^{<t>}$ and the new cell state $c^{<t>}$.\n",
    "    3. Apply a softmax layer to $s^{<t>}$, get the output. \n",
    "    4. Save the output by adding it to the list of outputs.\n",
    "\n",
    "3. Create your Keras model instance, it should have three inputs (\"inputs\", $s^{<0>}$ and $c^{<0>}$) and output the list of \"outputs\"."
   ]
  },
  {
   "cell_type": "code",
   "execution_count": 43,
   "metadata": {},
   "outputs": [],
   "source": [
    "# GRADED FUNCTION: model\n",
    "\n",
    "def model(Tx, Ty, n_a, n_s, human_vocab_size, machine_vocab_size):\n",
    "    \"\"\"\n",
    "    Arguments:\n",
    "    Tx -- length of the input sequence\n",
    "    Ty -- length of the output sequence\n",
    "    n_a -- hidden state size of the Bi-LSTM\n",
    "    n_s -- hidden state size of the post-attention LSTM\n",
    "    human_vocab_size -- size of the python dictionary \"human_vocab\"\n",
    "    machine_vocab_size -- size of the python dictionary \"machine_vocab\"\n",
    "\n",
    "    Returns:\n",
    "    model -- Keras model instance\n",
    "    \"\"\"\n",
    "    \n",
    "    # Define the inputs of your model with a shape (Tx,)\n",
    "    # Define s0 and c0, initial hidden state for the decoder LSTM of shape (n_s,)\n",
    "    X = Input(shape=(Tx, human_vocab_size))\n",
    "    s0 = Input(shape=(n_s,), name='s0')\n",
    "    c0 = Input(shape=(n_s,), name='c0')\n",
    "    s = s0\n",
    "    c = c0\n",
    "    \n",
    "    # Initialize empty list of outputs\n",
    "    outputs = []\n",
    "    \n",
    "    ### START CODE HERE ###\n",
    "    \n",
    "    # Step 1: Define your pre-attention Bi-LSTM. Remember to use return_sequences=True. (≈ 1 line)\n",
    "    a = Bidirectional(LSTM(n_a, return_sequences=True))(X)\n",
    "    \n",
    "    # Step 2: Iterate for Ty steps\n",
    "    for t in range(Ty):\n",
    "    \n",
    "        # Step 2.A: Perform one step of the attention mechanism to get back the context vector at step t (≈ 1 line)\n",
    "        context = one_step_attention(a, s)\n",
    "        \n",
    "        # Step 2.B: Apply the post-attention LSTM cell to the \"context\" vector.\n",
    "        # Don't forget to pass: initial_state = [hidden state, cell state] (≈ 1 line)\n",
    "        s, _, c = post_activation_LSTM_cell(context, initial_state = [s,c])\n",
    "        \n",
    "        # Step 2.C: Apply Dense layer to the hidden state output of the post-attention LSTM (≈ 1 line)\n",
    "        out = output_layer(s)\n",
    "        \n",
    "        # Step 2.D: Append \"out\" to the \"outputs\" list (≈ 1 line)\n",
    "        outputs.append(out)\n",
    "    \n",
    "    # Step 3: Create model instance taking three inputs and returning the list of outputs. (≈ 1 line)\n",
    "    model = Model(inputs=[X, s0, c0], outputs=outputs)\n",
    "    \n",
    "    ### END CODE HERE ###\n",
    "    \n",
    "    return model"
   ]
  },
  {
   "cell_type": "markdown",
   "metadata": {},
   "source": [
    "Run the following cell to create your model."
   ]
  },
  {
   "cell_type": "code",
   "execution_count": 44,
   "metadata": {},
   "outputs": [],
   "source": [
    "model = model(Tx, Ty, n_a, n_s, len(human_vocab), len(machine_vocab))"
   ]
  },
  {
   "cell_type": "markdown",
   "metadata": {},
   "source": [
    "Let's get a summary of the model to check if it matches the expected output."
   ]
  },
  {
   "cell_type": "code",
   "execution_count": 45,
   "metadata": {
    "scrolled": false
   },
   "outputs": [
    {
     "name": "stdout",
     "output_type": "stream",
     "text": [
      "__________________________________________________________________________________________________\n",
      "Layer (type)                    Output Shape         Param #     Connected to                     \n",
      "==================================================================================================\n",
      "input_3 (InputLayer)            (None, 30, 37)       0                                            \n",
      "__________________________________________________________________________________________________\n",
      "s0 (InputLayer)                 (None, 64)           0                                            \n",
      "__________________________________________________________________________________________________\n",
      "bidirectional_3 (Bidirectional) (None, 30, 64)       17920       input_3[0][0]                    \n",
      "__________________________________________________________________________________________________\n",
      "repeat_vector_3 (RepeatVector)  (None, 30, 64)       0           s0[0][0]                         \n",
      "                                                                 lstm_5[0][0]                     \n",
      "                                                                 lstm_5[1][0]                     \n",
      "                                                                 lstm_5[2][0]                     \n",
      "                                                                 lstm_5[3][0]                     \n",
      "                                                                 lstm_5[4][0]                     \n",
      "                                                                 lstm_5[5][0]                     \n",
      "                                                                 lstm_5[6][0]                     \n",
      "                                                                 lstm_5[7][0]                     \n",
      "                                                                 lstm_5[8][0]                     \n",
      "__________________________________________________________________________________________________\n",
      "concatenate_3 (Concatenate)     (None, 30, 128)      0           bidirectional_3[0][0]            \n",
      "                                                                 repeat_vector_3[0][0]            \n",
      "                                                                 bidirectional_3[0][0]            \n",
      "                                                                 repeat_vector_3[1][0]            \n",
      "                                                                 bidirectional_3[0][0]            \n",
      "                                                                 repeat_vector_3[2][0]            \n",
      "                                                                 bidirectional_3[0][0]            \n",
      "                                                                 repeat_vector_3[3][0]            \n",
      "                                                                 bidirectional_3[0][0]            \n",
      "                                                                 repeat_vector_3[4][0]            \n",
      "                                                                 bidirectional_3[0][0]            \n",
      "                                                                 repeat_vector_3[5][0]            \n",
      "                                                                 bidirectional_3[0][0]            \n",
      "                                                                 repeat_vector_3[6][0]            \n",
      "                                                                 bidirectional_3[0][0]            \n",
      "                                                                 repeat_vector_3[7][0]            \n",
      "                                                                 bidirectional_3[0][0]            \n",
      "                                                                 repeat_vector_3[8][0]            \n",
      "                                                                 bidirectional_3[0][0]            \n",
      "                                                                 repeat_vector_3[9][0]            \n",
      "__________________________________________________________________________________________________\n",
      "dense_6 (Dense)                 (None, 30, 10)       1290        concatenate_3[0][0]              \n",
      "                                                                 concatenate_3[1][0]              \n",
      "                                                                 concatenate_3[2][0]              \n",
      "                                                                 concatenate_3[3][0]              \n",
      "                                                                 concatenate_3[4][0]              \n",
      "                                                                 concatenate_3[5][0]              \n",
      "                                                                 concatenate_3[6][0]              \n",
      "                                                                 concatenate_3[7][0]              \n",
      "                                                                 concatenate_3[8][0]              \n",
      "                                                                 concatenate_3[9][0]              \n",
      "__________________________________________________________________________________________________\n",
      "dense_7 (Dense)                 (None, 30, 1)        11          dense_6[0][0]                    \n",
      "                                                                 dense_6[1][0]                    \n",
      "                                                                 dense_6[2][0]                    \n",
      "                                                                 dense_6[3][0]                    \n",
      "                                                                 dense_6[4][0]                    \n",
      "                                                                 dense_6[5][0]                    \n",
      "                                                                 dense_6[6][0]                    \n",
      "                                                                 dense_6[7][0]                    \n",
      "                                                                 dense_6[8][0]                    \n",
      "                                                                 dense_6[9][0]                    \n",
      "__________________________________________________________________________________________________\n",
      "attention_weights (Activation)  (None, 30, 1)        0           dense_7[0][0]                    \n",
      "                                                                 dense_7[1][0]                    \n",
      "                                                                 dense_7[2][0]                    \n",
      "                                                                 dense_7[3][0]                    \n",
      "                                                                 dense_7[4][0]                    \n",
      "                                                                 dense_7[5][0]                    \n",
      "                                                                 dense_7[6][0]                    \n",
      "                                                                 dense_7[7][0]                    \n",
      "                                                                 dense_7[8][0]                    \n",
      "                                                                 dense_7[9][0]                    \n",
      "__________________________________________________________________________________________________\n",
      "dot_3 (Dot)                     (None, 1, 64)        0           attention_weights[0][0]          \n",
      "                                                                 bidirectional_3[0][0]            \n",
      "                                                                 attention_weights[1][0]          \n",
      "                                                                 bidirectional_3[0][0]            \n",
      "                                                                 attention_weights[2][0]          \n",
      "                                                                 bidirectional_3[0][0]            \n",
      "                                                                 attention_weights[3][0]          \n",
      "                                                                 bidirectional_3[0][0]            \n"
     ]
    },
    {
     "name": "stdout",
     "output_type": "stream",
     "text": [
      "                                                                 attention_weights[4][0]          \n",
      "                                                                 bidirectional_3[0][0]            \n",
      "                                                                 attention_weights[5][0]          \n",
      "                                                                 bidirectional_3[0][0]            \n",
      "                                                                 attention_weights[6][0]          \n",
      "                                                                 bidirectional_3[0][0]            \n",
      "                                                                 attention_weights[7][0]          \n",
      "                                                                 bidirectional_3[0][0]            \n",
      "                                                                 attention_weights[8][0]          \n",
      "                                                                 bidirectional_3[0][0]            \n",
      "                                                                 attention_weights[9][0]          \n",
      "                                                                 bidirectional_3[0][0]            \n",
      "__________________________________________________________________________________________________\n",
      "c0 (InputLayer)                 (None, 64)           0                                            \n",
      "__________________________________________________________________________________________________\n",
      "lstm_5 (LSTM)                   [(None, 64), (None,  33024       dot_3[0][0]                      \n",
      "                                                                 s0[0][0]                         \n",
      "                                                                 c0[0][0]                         \n",
      "                                                                 dot_3[1][0]                      \n",
      "                                                                 lstm_5[0][0]                     \n",
      "                                                                 lstm_5[0][2]                     \n",
      "                                                                 dot_3[2][0]                      \n",
      "                                                                 lstm_5[1][0]                     \n",
      "                                                                 lstm_5[1][2]                     \n",
      "                                                                 dot_3[3][0]                      \n",
      "                                                                 lstm_5[2][0]                     \n",
      "                                                                 lstm_5[2][2]                     \n",
      "                                                                 dot_3[4][0]                      \n",
      "                                                                 lstm_5[3][0]                     \n",
      "                                                                 lstm_5[3][2]                     \n",
      "                                                                 dot_3[5][0]                      \n",
      "                                                                 lstm_5[4][0]                     \n",
      "                                                                 lstm_5[4][2]                     \n",
      "                                                                 dot_3[6][0]                      \n",
      "                                                                 lstm_5[5][0]                     \n",
      "                                                                 lstm_5[5][2]                     \n",
      "                                                                 dot_3[7][0]                      \n",
      "                                                                 lstm_5[6][0]                     \n",
      "                                                                 lstm_5[6][2]                     \n",
      "                                                                 dot_3[8][0]                      \n",
      "                                                                 lstm_5[7][0]                     \n",
      "                                                                 lstm_5[7][2]                     \n",
      "                                                                 dot_3[9][0]                      \n",
      "                                                                 lstm_5[8][0]                     \n",
      "                                                                 lstm_5[8][2]                     \n",
      "__________________________________________________________________________________________________\n",
      "dense_8 (Dense)                 (None, 11)           715         lstm_5[0][0]                     \n",
      "                                                                 lstm_5[1][0]                     \n",
      "                                                                 lstm_5[2][0]                     \n",
      "                                                                 lstm_5[3][0]                     \n",
      "                                                                 lstm_5[4][0]                     \n",
      "                                                                 lstm_5[5][0]                     \n",
      "                                                                 lstm_5[6][0]                     \n",
      "                                                                 lstm_5[7][0]                     \n",
      "                                                                 lstm_5[8][0]                     \n",
      "                                                                 lstm_5[9][0]                     \n",
      "==================================================================================================\n",
      "Total params: 52,960\n",
      "Trainable params: 52,960\n",
      "Non-trainable params: 0\n",
      "__________________________________________________________________________________________________\n"
     ]
    }
   ],
   "source": [
    "model.summary()"
   ]
  },
  {
   "cell_type": "markdown",
   "metadata": {},
   "source": [
    "**Expected Output**:\n",
    "\n",
    "Here is the summary you should see\n",
    "<table>\n",
    "    <tr>\n",
    "        <td>\n",
    "            **Total params:**\n",
    "        </td>\n",
    "        <td>\n",
    "         185,484\n",
    "        </td>\n",
    "    </tr>\n",
    "        <tr>\n",
    "        <td>\n",
    "            **Trainable params:**\n",
    "        </td>\n",
    "        <td>\n",
    "         185,484\n",
    "        </td>\n",
    "    </tr>\n",
    "            <tr>\n",
    "        <td>\n",
    "            **Non-trainable params:**\n",
    "        </td>\n",
    "        <td>\n",
    "         0\n",
    "        </td>\n",
    "    </tr>\n",
    "                    <tr>\n",
    "        <td>\n",
    "            **bidirectional_1's output shape **\n",
    "        </td>\n",
    "        <td>\n",
    "         (None, 30, 128)  \n",
    "        </td>\n",
    "    </tr>\n",
    "    <tr>\n",
    "        <td>\n",
    "            **repeat_vector_1's output shape **\n",
    "        </td>\n",
    "        <td>\n",
    "         (None, 30, 128)  \n",
    "        </td>\n",
    "    </tr>\n",
    "                <tr>\n",
    "        <td>\n",
    "            **concatenate_1's output shape **\n",
    "        </td>\n",
    "        <td>\n",
    "         (None, 30, 256) \n",
    "        </td>\n",
    "    </tr>\n",
    "            <tr>\n",
    "        <td>\n",
    "            **attention_weights's output shape **\n",
    "        </td>\n",
    "        <td>\n",
    "         (None, 30, 1)  \n",
    "        </td>\n",
    "    </tr>\n",
    "        <tr>\n",
    "        <td>\n",
    "            **dot_1's output shape **\n",
    "        </td>\n",
    "        <td>\n",
    "         (None, 1, 128) \n",
    "        </td>\n",
    "    </tr>\n",
    "           <tr>\n",
    "        <td>\n",
    "            **dense_2's output shape **\n",
    "        </td>\n",
    "        <td>\n",
    "         (None, 11) \n",
    "        </td>\n",
    "    </tr>\n",
    "</table>\n"
   ]
  },
  {
   "cell_type": "markdown",
   "metadata": {},
   "source": [
    "As usual, after creating your model in Keras, you need to compile it and define what loss, optimizer and metrics your are want to use. Compile your model using `categorical_crossentropy` loss, a custom [Adam](https://keras.io/optimizers/#adam) [optimizer](https://keras.io/optimizers/#usage-of-optimizers) (`learning rate = 0.005`, $\\beta_1 = 0.9$, $\\beta_2 = 0.999$, `decay = 0.01`)  and `['accuracy']` metrics:"
   ]
  },
  {
   "cell_type": "code",
   "execution_count": 46,
   "metadata": {},
   "outputs": [],
   "source": [
    "### START CODE HERE ### (≈2 lines)\n",
    "opt = Adam(lr = 0.005, beta_1=0.9, beta_2=0.999, decay = 0.01)\n",
    "model.compile(loss='categorical_crossentropy', optimizer=opt, metrics=['accuracy'])\n",
    "### END CODE HERE ###"
   ]
  },
  {
   "cell_type": "markdown",
   "metadata": {},
   "source": [
    "The last step is to define all your inputs and outputs to fit the model:\n",
    "- You already have X of shape $(m = 10000, T_x = 30)$ containing the training examples.\n",
    "- You need to create `s0` and `c0` to initialize your `post_activation_LSTM_cell` with 0s.\n",
    "- Given the `model()` you coded, you need the \"outputs\" to be a list of 11 elements of shape (m, T_y). So that: `outputs[i][0], ..., outputs[i][Ty]` represent the true labels (characters) corresponding to the $i^{th}$ training example (`X[i]`). More generally, `outputs[i][j]` is the true label of the $j^{th}$ character in the $i^{th}$ training example."
   ]
  },
  {
   "cell_type": "code",
   "execution_count": 47,
   "metadata": {},
   "outputs": [],
   "source": [
    "s0 = np.zeros((m, n_s))\n",
    "c0 = np.zeros((m, n_s))\n",
    "outputs = list(Yoh.swapaxes(0,1))"
   ]
  },
  {
   "cell_type": "markdown",
   "metadata": {},
   "source": [
    "Let's now fit the model and run it for one epoch."
   ]
  },
  {
   "cell_type": "code",
   "execution_count": 48,
   "metadata": {
    "scrolled": true
   },
   "outputs": [
    {
     "name": "stdout",
     "output_type": "stream",
     "text": [
      "Epoch 1/1\n"
     ]
    },
    {
     "name": "stdout",
     "output_type": "stream",
     "text": [
      " 2800/10000 [=======>......................] - ETA: 9:10 - loss: 23.8615 - dense_8_loss: 2.4010 - dense_8_acc: 0.0000e+00 - dense_8_acc_1: 0.0700 - dense_8_acc_2: 0.0300 - dense_8_acc_3: 0.0300 - dense_8_acc_4: 0.8600 - dense_8_acc_5: 0.0000e+00 - dense_8_acc_6: 0.0300 - dense_8_acc_7: 0.8600 - dense_8_acc_8: 0.0200 - dense_8_acc_9: 0.020 - ETA: 4:37 - loss: 23.6337 - dense_8_loss: 2.4057 - dense_8_acc: 0.0000e+00 - dense_8_acc_1: 0.0600 - dense_8_acc_2: 0.0250 - dense_8_acc_3: 0.0200 - dense_8_acc_4: 0.9050 - dense_8_acc_5: 0.0100 - dense_8_acc_6: 0.0150 - dense_8_acc_7: 0.9150 - dense_8_acc_8: 0.0150 - dense_8_acc_9: 0.0100    - ETA: 3:05 - loss: 23.4048 - dense_8_loss: 2.4382 - dense_8_acc: 0.0000e+00 - dense_8_acc_1: 0.0567 - dense_8_acc_2: 0.0167 - dense_8_acc_3: 0.0133 - dense_8_acc_4: 0.9333 - dense_8_acc_5: 0.0067 - dense_8_acc_6: 0.0100 - dense_8_acc_7: 0.9400 - dense_8_acc_8: 0.0100 - dense_8_acc_9: 0.010 - ETA: 2:19 - loss: 23.1112 - dense_8_loss: 2.4857 - dense_8_acc: 0.0000e+00 - dense_8_acc_1: 0.0425 - dense_8_acc_2: 0.0125 - dense_8_acc_3: 0.0100 - dense_8_acc_4: 0.9500 - dense_8_acc_5: 0.0050 - dense_8_acc_6: 0.0075 - dense_8_acc_7: 0.9550 - dense_8_acc_8: 0.0075 - dense_8_acc_9: 0.007 - ETA: 1:52 - loss: 22.8985 - dense_8_loss: 2.6260 - dense_8_acc: 0.0000e+00 - dense_8_acc_1: 0.0340 - dense_8_acc_2: 0.0100 - dense_8_acc_3: 0.0080 - dense_8_acc_4: 0.9600 - dense_8_acc_5: 0.0040 - dense_8_acc_6: 0.0060 - dense_8_acc_7: 0.9640 - dense_8_acc_8: 0.0060 - dense_8_acc_9: 0.006 - ETA: 1:34 - loss: 22.7778 - dense_8_loss: 2.7749 - dense_8_acc: 0.0000e+00 - dense_8_acc_1: 0.0333 - dense_8_acc_2: 0.0083 - dense_8_acc_3: 0.0067 - dense_8_acc_4: 0.9667 - dense_8_acc_5: 0.0033 - dense_8_acc_6: 0.0050 - dense_8_acc_7: 0.9700 - dense_8_acc_8: 0.0050 - dense_8_acc_9: 0.005 - ETA: 1:21 - loss: 22.6428 - dense_8_loss: 2.8077 - dense_8_acc: 0.0000e+00 - dense_8_acc_1: 0.0686 - dense_8_acc_2: 0.0114 - dense_8_acc_3: 0.0057 - dense_8_acc_4: 0.9714 - dense_8_acc_5: 0.0029 - dense_8_acc_6: 0.0043 - dense_8_acc_7: 0.9743 - dense_8_acc_8: 0.0043 - dense_8_acc_9: 0.004 - ETA: 1:11 - loss: 22.5080 - dense_8_loss: 2.8237 - dense_8_acc: 0.0000e+00 - dense_8_acc_1: 0.1175 - dense_8_acc_2: 0.0375 - dense_8_acc_3: 0.0050 - dense_8_acc_4: 0.9750 - dense_8_acc_5: 0.0025 - dense_8_acc_6: 0.0037 - dense_8_acc_7: 0.9775 - dense_8_acc_8: 0.0037 - dense_8_acc_9: 0.003 - ETA: 1:03 - loss: 22.3806 - dense_8_loss: 2.8113 - dense_8_acc: 0.0000e+00 - dense_8_acc_1: 0.1456 - dense_8_acc_2: 0.0578 - dense_8_acc_3: 0.0122 - dense_8_acc_4: 0.9778 - dense_8_acc_5: 0.0022 - dense_8_acc_6: 0.0033 - dense_8_acc_7: 0.9800 - dense_8_acc_8: 0.0033 - dense_8_acc_9: 0.003 - ETA: 57s - loss: 22.2853 - dense_8_loss: 2.7990 - dense_8_acc: 0.0000e+00 - dense_8_acc_1: 0.1720 - dense_8_acc_2: 0.0700 - dense_8_acc_3: 0.0200 - dense_8_acc_4: 0.9620 - dense_8_acc_5: 0.0020 - dense_8_acc_6: 0.0030 - dense_8_acc_7: 0.9820 - dense_8_acc_8: 0.0030 - dense_8_acc_9: 0.003 - ETA: 52s - loss: 22.1982 - dense_8_loss: 2.7927 - dense_8_acc: 0.0000e+00 - dense_8_acc_1: 0.1918 - dense_8_acc_2: 0.0873 - dense_8_acc_3: 0.0255 - dense_8_acc_4: 0.9555 - dense_8_acc_5: 0.0018 - dense_8_acc_6: 0.0027 - dense_8_acc_7: 0.9836 - dense_8_acc_8: 0.0027 - dense_8_acc_9: 0.00 - ETA: 47s - loss: 22.1273 - dense_8_loss: 2.7985 - dense_8_acc: 0.0000e+00 - dense_8_acc_1: 0.2108 - dense_8_acc_2: 0.0975 - dense_8_acc_3: 0.0367 - dense_8_acc_4: 0.9583 - dense_8_acc_5: 0.0017 - dense_8_acc_6: 0.0025 - dense_8_acc_7: 0.9850 - dense_8_acc_8: 0.0025 - dense_8_acc_9: 0.00 - ETA: 44s - loss: 22.0322 - dense_8_loss: 2.7958 - dense_8_acc: 0.0000e+00 - dense_8_acc_1: 0.2246 - dense_8_acc_2: 0.1062 - dense_8_acc_3: 0.0462 - dense_8_acc_4: 0.9615 - dense_8_acc_5: 0.0015 - dense_8_acc_6: 0.0023 - dense_8_acc_7: 0.9862 - dense_8_acc_8: 0.0023 - dense_8_acc_9: 0.00 - ETA: 41s - loss: 21.9716 - dense_8_loss: 2.8017 - dense_8_acc: 0.0000e+00 - dense_8_acc_1: 0.2293 - dense_8_acc_2: 0.1079 - dense_8_acc_3: 0.0493 - dense_8_acc_4: 0.9643 - dense_8_acc_5: 0.0014 - dense_8_acc_6: 0.0021 - dense_8_acc_7: 0.9871 - dense_8_acc_8: 0.0021 - dense_8_acc_9: 0.00 - ETA: 38s - loss: 21.9086 - dense_8_loss: 2.8125 - dense_8_acc: 0.0000e+00 - dense_8_acc_1: 0.2380 - dense_8_acc_2: 0.1133 - dense_8_acc_3: 0.0533 - dense_8_acc_4: 0.9667 - dense_8_acc_5: 0.0013 - dense_8_acc_6: 0.0020 - dense_8_acc_7: 0.9880 - dense_8_acc_8: 0.0020 - dense_8_acc_9: 0.00 - ETA: 36s - loss: 21.8606 - dense_8_loss: 2.8220 - dense_8_acc: 0.0000e+00 - dense_8_acc_1: 0.2431 - dense_8_acc_2: 0.1150 - dense_8_acc_3: 0.0569 - dense_8_acc_4: 0.9688 - dense_8_acc_5: 0.0012 - dense_8_acc_6: 0.0019 - dense_8_acc_7: 0.9888 - dense_8_acc_8: 0.0019 - dense_8_acc_9: 0.00 - ETA: 34s - loss: 21.7975 - dense_8_loss: 2.8262 - dense_8_acc: 0.0000e+00 - dense_8_acc_1: 0.2518 - dense_8_acc_2: 0.1153 - dense_8_acc_3: 0.0600 - dense_8_acc_4: 0.9706 - dense_8_acc_5: 0.0012 - dense_8_acc_6: 0.0018 - dense_8_acc_7: 0.9894 - dense_8_acc_8: 0.0018 - dense_8_acc_9: 0.00 - ETA: 32s - loss: 21.7422 - dense_8_loss: 2.8280 - dense_8_acc: 0.0000e+00 - dense_8_acc_1: 0.2589 - dense_8_acc_2: 0.1206 - dense_8_acc_3: 0.0617 - dense_8_acc_4: 0.9722 - dense_8_acc_5: 0.0011 - dense_8_acc_6: 0.0017 - dense_8_acc_7: 0.9900 - dense_8_acc_8: 0.0017 - dense_8_acc_9: 0.00 - ETA: 30s - loss: 21.6879 - dense_8_loss: 2.8206 - dense_8_acc: 0.0000e+00 - dense_8_acc_1: 0.2679 - dense_8_acc_2: 0.1211 - dense_8_acc_3: 0.0663 - dense_8_acc_4: 0.9737 - dense_8_acc_5: 0.0011 - dense_8_acc_6: 0.0016 - dense_8_acc_7: 0.9905 - dense_8_acc_8: 0.0016 - dense_8_acc_9: 0.00 - ETA: 29s - loss: 21.6158 - dense_8_loss: 2.8081 - dense_8_acc: 0.0000e+00 - dense_8_acc_1: 0.2760 - dense_8_acc_2: 0.1270 - dense_8_acc_3: 0.0680 - dense_8_acc_4: 0.9725 - dense_8_acc_5: 1.0000e-03 - dense_8_acc_6: 0.0015 - dense_8_acc_7: 0.9910 - dense_8_acc_8: 0.0015 - dense_8_acc_9: 0.00 - ETA: 27s - loss: 21.5613 - dense_8_loss: 2.8091 - dense_8_acc: 0.0000e+00 - dense_8_acc_1: 0.2862 - dense_8_acc_2: 0.1281 - dense_8_acc_3: 0.0710 - dense_8_acc_4: 0.9386 - dense_8_acc_5: 9.5238e-04 - dense_8_acc_6: 0.0014 - dense_8_acc_7: 0.9914 - dense_8_acc_8: 0.0014 - dense_8_acc_9: 0.00 - ETA: 26s - loss: 21.5084 - dense_8_loss: 2.8067 - dense_8_acc: 0.0000e+00 - dense_8_acc_1: 0.3009 - dense_8_acc_2: 0.1327 - dense_8_acc_3: 0.0750 - dense_8_acc_4: 0.9136 - dense_8_acc_5: 9.0909e-04 - dense_8_acc_6: 0.0014 - dense_8_acc_7: 0.9918 - dense_8_acc_8: 0.0014 - dense_8_acc_9: 0.00 - ETA: 25s - loss: 21.4518 - dense_8_loss: 2.8051 - dense_8_acc: 0.0000e+00 - dense_8_acc_1: 0.3139 - dense_8_acc_2: 0.1383 - dense_8_acc_3: 0.0752 - dense_8_acc_4: 0.9174 - dense_8_acc_5: 8.6957e-04 - dense_8_acc_6: 0.0013 - dense_8_acc_7: 0.9922 - dense_8_acc_8: 0.0013 - dense_8_acc_9: 0.00 - ETA: 24s - loss: 21.3993 - dense_8_loss: 2.8000 - dense_8_acc: 0.0000e+00 - dense_8_acc_1: 0.3258 - dense_8_acc_2: 0.1446 - dense_8_acc_3: 0.0746 - dense_8_acc_4: 0.9208 - dense_8_acc_5: 8.3333e-04 - dense_8_acc_6: 0.0012 - dense_8_acc_7: 0.9925 - dense_8_acc_8: 0.0021 - dense_8_acc_9: 0.00 - ETA: 23s - loss: 21.3495 - dense_8_loss: 2.8006 - dense_8_acc: 0.0000e+00 - dense_8_acc_1: 0.3356 - dense_8_acc_2: 0.1488 - dense_8_acc_3: 0.0736 - dense_8_acc_4: 0.9240 - dense_8_acc_5: 8.0000e-04 - dense_8_acc_6: 0.0012 - dense_8_acc_7: 0.9928 - dense_8_acc_8: 0.0020 - dense_8_acc_9: 0.00 - ETA: 22s - loss: 21.2969 - dense_8_loss: 2.7988 - dense_8_acc: 0.0000e+00 - dense_8_acc_1: 0.3446 - dense_8_acc_2: 0.1535 - dense_8_acc_3: 0.0738 - dense_8_acc_4: 0.9269 - dense_8_acc_5: 7.6923e-04 - dense_8_acc_6: 0.0012 - dense_8_acc_7: 0.9931 - dense_8_acc_8: 0.0019 - dense_8_acc_9: 0.00 - ETA: 21s - loss: 21.2426 - dense_8_loss: 2.7935 - dense_8_acc: 0.0000e+00 - dense_8_acc_1: 0.3530 - dense_8_acc_2: 0.1563 - dense_8_acc_3: 0.0741 - dense_8_acc_4: 0.9296 - dense_8_acc_5: 7.4074e-04 - dense_8_acc_6: 0.0011 - dense_8_acc_7: 0.9933 - dense_8_acc_8: 0.0067 - dense_8_acc_9: 0.00 - ETA: 20s - loss: 21.1938 - dense_8_loss: 2.7904 - dense_8_acc: 0.0000e+00 - dense_8_acc_1: 0.3582 - dense_8_acc_2: 0.1596 - dense_8_acc_3: 0.0739 - dense_8_acc_4: 0.9321 - dense_8_acc_5: 7.1429e-04 - dense_8_acc_6: 0.0011 - dense_8_acc_7: 0.9932 - dense_8_acc_8: 0.0143 - dense_8_acc_9: 0.0129\b\b\b\b\b\b\b\b\b\b\b\b\b\b\b\b\b\b\b\b\b\b\b\b\b\b\b\b\b\b\b\b\b\b\b\b\b\b\b\b\b\b\b\b\b\b\b\b\b\b\b\b\b\b\b\b\b\b\b\b\b\b\b\b\b\b\b\b\b\b\b\b\b\b\b\b\b\b\b\b\b\b\b\b\b\b\b\b\b\b\b\b\b\b\b\b\b\b\b\b\b\b\b\b\b\b\b\b\b\b\b\b\b\b\b\b\b\b\b\b\b\b\b\b\b\b\b\b\b\b\b\b\b\b\b\b\b\b\b\b\b\b\b\b\b\b\b\b\b\b\b\b\b\b\b\b\b\b\b\b\b\b\b\b\b\b\b\b\b\b\b\b\b\b\b\b\b\b\b\b\b\b\b\b\b\b\b\b\b\b\b\b\b\b\b\b\b\b\b\b\b\b\b\b\b\b\b\b\b\b\b\b\b\b\b\b\b\b\b\b\b\b\b\b\b\b\b\b\b\b\b\b\b\b\b\b\b\b\b\b\b\b\b\b\b\b\b\b\b\b\b\b\b\b\b\b\b\b\b\b\b\b\b\b\b\b\b\b\b\b\b\b\b\b\b\b\b\b\b\b\b\b\b\b\b\b\b\b\b\b\b\b\b\b\b\b\b\b\b\b\b\b\b\b\b\b\b\b\b\b\b\b\b\b\b\b\b\b\b\b\b\b\b\b\b\b\b\b\b\b\b\b\b\b\b\b\b\b\b\b"
     ]
    },
    {
     "name": "stdout",
     "output_type": "stream",
     "text": [
      " 5700/10000 [================>.............] - ETA: 19s - loss: 21.1339 - dense_8_loss: 2.7875 - dense_8_acc: 0.0000e+00 - dense_8_acc_1: 0.3672 - dense_8_acc_2: 0.1617 - dense_8_acc_3: 0.0721 - dense_8_acc_4: 0.9345 - dense_8_acc_5: 6.8966e-04 - dense_8_acc_6: 0.0010 - dense_8_acc_7: 0.9928 - dense_8_acc_8: 0.0221 - dense_8_acc_9: 0.01 - ETA: 19s - loss: 21.0838 - dense_8_loss: 2.7895 - dense_8_acc: 0.0000e+00 - dense_8_acc_1: 0.3747 - dense_8_acc_2: 0.1670 - dense_8_acc_3: 0.0707 - dense_8_acc_4: 0.9367 - dense_8_acc_5: 6.6667e-04 - dense_8_acc_6: 1.0000e-03 - dense_8_acc_7: 0.9930 - dense_8_acc_8: 0.0227 - dense_8_acc_9: 0.01 - ETA: 18s - loss: 21.0280 - dense_8_loss: 2.7865 - dense_8_acc: 0.0000e+00 - dense_8_acc_1: 0.3819 - dense_8_acc_2: 0.1726 - dense_8_acc_3: 0.0690 - dense_8_acc_4: 0.9387 - dense_8_acc_5: 6.4516e-04 - dense_8_acc_6: 9.6774e-04 - dense_8_acc_7: 0.9932 - dense_8_acc_8: 0.0329 - dense_8_acc_9: 0.02 - ETA: 17s - loss: 20.9652 - dense_8_loss: 2.7807 - dense_8_acc: 0.0000e+00 - dense_8_acc_1: 0.3916 - dense_8_acc_2: 0.1775 - dense_8_acc_3: 0.0716 - dense_8_acc_4: 0.9406 - dense_8_acc_5: 6.2500e-04 - dense_8_acc_6: 9.3750e-04 - dense_8_acc_7: 0.9875 - dense_8_acc_8: 0.0447 - dense_8_acc_9: 0.02 - ETA: 17s - loss: 20.9146 - dense_8_loss: 2.7784 - dense_8_acc: 0.0000e+00 - dense_8_acc_1: 0.4009 - dense_8_acc_2: 0.1818 - dense_8_acc_3: 0.0712 - dense_8_acc_4: 0.9418 - dense_8_acc_5: 0.0012 - dense_8_acc_6: 0.0012 - dense_8_acc_7: 0.9803 - dense_8_acc_8: 0.0555 - dense_8_acc_9: 0.0285       - ETA: 16s - loss: 20.8580 - dense_8_loss: 2.7722 - dense_8_acc: 0.0000e+00 - dense_8_acc_1: 0.4085 - dense_8_acc_2: 0.1856 - dense_8_acc_3: 0.0715 - dense_8_acc_4: 0.9432 - dense_8_acc_5: 0.0015 - dense_8_acc_6: 0.0012 - dense_8_acc_7: 0.9721 - dense_8_acc_8: 0.0591 - dense_8_acc_9: 0.03 - ETA: 16s - loss: 20.8047 - dense_8_loss: 2.7634 - dense_8_acc: 0.0000e+00 - dense_8_acc_1: 0.4140 - dense_8_acc_2: 0.1874 - dense_8_acc_3: 0.0714 - dense_8_acc_4: 0.9449 - dense_8_acc_5: 0.0014 - dense_8_acc_6: 0.0011 - dense_8_acc_7: 0.9646 - dense_8_acc_8: 0.0657 - dense_8_acc_9: 0.03 - ETA: 15s - loss: 20.7595 - dense_8_loss: 2.7614 - dense_8_acc: 0.0000e+00 - dense_8_acc_1: 0.4175 - dense_8_acc_2: 0.1900 - dense_8_acc_3: 0.0694 - dense_8_acc_4: 0.9464 - dense_8_acc_5: 0.0014 - dense_8_acc_6: 0.0011 - dense_8_acc_7: 0.9561 - dense_8_acc_8: 0.0747 - dense_8_acc_9: 0.03 - ETA: 15s - loss: 20.7049 - dense_8_loss: 2.7552 - dense_8_acc: 0.0000e+00 - dense_8_acc_1: 0.4222 - dense_8_acc_2: 0.1914 - dense_8_acc_3: 0.0676 - dense_8_acc_4: 0.9478 - dense_8_acc_5: 0.0014 - dense_8_acc_6: 0.0011 - dense_8_acc_7: 0.9554 - dense_8_acc_8: 0.0797 - dense_8_acc_9: 0.04 - ETA: 14s - loss: 20.6490 - dense_8_loss: 2.7493 - dense_8_acc: 0.0000e+00 - dense_8_acc_1: 0.4271 - dense_8_acc_2: 0.1934 - dense_8_acc_3: 0.0658 - dense_8_acc_4: 0.9492 - dense_8_acc_5: 0.0013 - dense_8_acc_6: 0.0011 - dense_8_acc_7: 0.9526 - dense_8_acc_8: 0.0795 - dense_8_acc_9: 0.04 - ETA: 14s - loss: 20.5928 - dense_8_loss: 2.7453 - dense_8_acc: 0.0000e+00 - dense_8_acc_1: 0.4333 - dense_8_acc_2: 0.1979 - dense_8_acc_3: 0.0644 - dense_8_acc_4: 0.9505 - dense_8_acc_5: 0.0051 - dense_8_acc_6: 0.0018 - dense_8_acc_7: 0.9423 - dense_8_acc_8: 0.0862 - dense_8_acc_9: 0.04 - ETA: 13s - loss: 20.5380 - dense_8_loss: 2.7421 - dense_8_acc: 0.0000e+00 - dense_8_acc_1: 0.4390 - dense_8_acc_2: 0.2015 - dense_8_acc_3: 0.0655 - dense_8_acc_4: 0.9502 - dense_8_acc_5: 0.0110 - dense_8_acc_6: 0.0020 - dense_8_acc_7: 0.9283 - dense_8_acc_8: 0.0942 - dense_8_acc_9: 0.05 - ETA: 13s - loss: 20.4740 - dense_8_loss: 2.7374 - dense_8_acc: 0.0063 - dense_8_acc_1: 0.4473 - dense_8_acc_2: 0.2056 - dense_8_acc_3: 0.0668 - dense_8_acc_4: 0.9515 - dense_8_acc_5: 0.0110 - dense_8_acc_6: 0.0022 - dense_8_acc_7: 0.9185 - dense_8_acc_8: 0.1034 - dense_8_acc_9: 0.0527   - ETA: 12s - loss: 20.4173 - dense_8_loss: 2.7344 - dense_8_acc: 0.0226 - dense_8_acc_1: 0.4540 - dense_8_acc_2: 0.2083 - dense_8_acc_3: 0.0667 - dense_8_acc_4: 0.9526 - dense_8_acc_5: 0.0107 - dense_8_acc_6: 0.0021 - dense_8_acc_7: 0.9179 - dense_8_acc_8: 0.1107 - dense_8_acc_9: 0.05 - ETA: 12s - loss: 20.3649 - dense_8_loss: 2.7329 - dense_8_acc: 0.0351 - dense_8_acc_1: 0.4570 - dense_8_acc_2: 0.2121 - dense_8_acc_3: 0.0674 - dense_8_acc_4: 0.9537 - dense_8_acc_5: 0.0105 - dense_8_acc_6: 0.0021 - dense_8_acc_7: 0.9195 - dense_8_acc_8: 0.1126 - dense_8_acc_9: 0.05 - ETA: 12s - loss: 20.3038 - dense_8_loss: 2.7281 - dense_8_acc: 0.0486 - dense_8_acc_1: 0.4614 - dense_8_acc_2: 0.2148 - dense_8_acc_3: 0.0680 - dense_8_acc_4: 0.9548 - dense_8_acc_5: 0.0105 - dense_8_acc_6: 0.0020 - dense_8_acc_7: 0.9214 - dense_8_acc_8: 0.1168 - dense_8_acc_9: 0.05 - ETA: 11s - loss: 20.2459 - dense_8_loss: 2.7251 - dense_8_acc: 0.0631 - dense_8_acc_1: 0.4678 - dense_8_acc_2: 0.2160 - dense_8_acc_3: 0.0682 - dense_8_acc_4: 0.9558 - dense_8_acc_5: 0.0102 - dense_8_acc_6: 0.0024 - dense_8_acc_7: 0.9193 - dense_8_acc_8: 0.1229 - dense_8_acc_9: 0.05 - ETA: 11s - loss: 20.1879 - dense_8_loss: 2.7198 - dense_8_acc: 0.0752 - dense_8_acc_1: 0.4720 - dense_8_acc_2: 0.2185 - dense_8_acc_3: 0.0685 - dense_8_acc_4: 0.9567 - dense_8_acc_5: 0.0102 - dense_8_acc_6: 0.0026 - dense_8_acc_7: 0.9150 - dense_8_acc_8: 0.1309 - dense_8_acc_9: 0.06 - ETA: 10s - loss: 20.1283 - dense_8_loss: 2.7176 - dense_8_acc: 0.0868 - dense_8_acc_1: 0.4764 - dense_8_acc_2: 0.2219 - dense_8_acc_3: 0.0681 - dense_8_acc_4: 0.9572 - dense_8_acc_5: 0.0147 - dense_8_acc_6: 0.0038 - dense_8_acc_7: 0.9153 - dense_8_acc_8: 0.1319 - dense_8_acc_9: 0.06 - ETA: 10s - loss: 20.0779 - dense_8_loss: 2.7144 - dense_8_acc: 0.0971 - dense_8_acc_1: 0.4806 - dense_8_acc_2: 0.2238 - dense_8_acc_3: 0.0677 - dense_8_acc_4: 0.9546 - dense_8_acc_5: 0.0262 - dense_8_acc_6: 0.0037 - dense_8_acc_7: 0.9154 - dense_8_acc_8: 0.1319 - dense_8_acc_9: 0.06 - ETA: 10s - loss: 20.0209 - dense_8_loss: 2.7104 - dense_8_acc: 0.1078 - dense_8_acc_1: 0.4849 - dense_8_acc_2: 0.2267 - dense_8_acc_3: 0.0663 - dense_8_acc_4: 0.9553 - dense_8_acc_5: 0.0286 - dense_8_acc_6: 0.0037 - dense_8_acc_7: 0.9149 - dense_8_acc_8: 0.1398 - dense_8_acc_9: 0.06 - ETA: 9s - loss: 19.9635 - dense_8_loss: 2.7072 - dense_8_acc: 0.1200 - dense_8_acc_1: 0.4900 - dense_8_acc_2: 0.2278 - dense_8_acc_3: 0.0654 - dense_8_acc_4: 0.9562 - dense_8_acc_5: 0.0302 - dense_8_acc_6: 0.0046 - dense_8_acc_7: 0.9106 - dense_8_acc_8: 0.1456 - dense_8_acc_9: 0.0680 - ETA: 9s - loss: 19.9042 - dense_8_loss: 2.7023 - dense_8_acc: 0.1306 - dense_8_acc_1: 0.4941 - dense_8_acc_2: 0.2310 - dense_8_acc_3: 0.0645 - dense_8_acc_4: 0.9571 - dense_8_acc_5: 0.0325 - dense_8_acc_6: 0.0049 - dense_8_acc_7: 0.9090 - dense_8_acc_8: 0.1506 - dense_8_acc_9: 0.069 - ETA: 9s - loss: 19.8463 - dense_8_loss: 2.7012 - dense_8_acc: 0.1408 - dense_8_acc_1: 0.4981 - dense_8_acc_2: 0.2337 - dense_8_acc_3: 0.0646 - dense_8_acc_4: 0.9577 - dense_8_acc_5: 0.0367 - dense_8_acc_6: 0.0048 - dense_8_acc_7: 0.9094 - dense_8_acc_8: 0.1498 - dense_8_acc_9: 0.070 - ETA: 9s - loss: 19.7844 - dense_8_loss: 2.6959 - dense_8_acc: 0.1508 - dense_8_acc_1: 0.5034 - dense_8_acc_2: 0.2383 - dense_8_acc_3: 0.0638 - dense_8_acc_4: 0.9583 - dense_8_acc_5: 0.0449 - dense_8_acc_6: 0.0047 - dense_8_acc_7: 0.9109 - dense_8_acc_8: 0.1517 - dense_8_acc_9: 0.071 - ETA: 8s - loss: 19.7263 - dense_8_loss: 2.6906 - dense_8_acc: 0.1591 - dense_8_acc_1: 0.5078 - dense_8_acc_2: 0.2409 - dense_8_acc_3: 0.0631 - dense_8_acc_4: 0.9581 - dense_8_acc_5: 0.0524 - dense_8_acc_6: 0.0046 - dense_8_acc_7: 0.9111 - dense_8_acc_8: 0.1548 - dense_8_acc_9: 0.073 - ETA: 8s - loss: 19.6648 - dense_8_loss: 2.6854 - dense_8_acc: 0.1680 - dense_8_acc_1: 0.5122 - dense_8_acc_2: 0.2442 - dense_8_acc_3: 0.0629 - dense_8_acc_4: 0.9582 - dense_8_acc_5: 0.0616 - dense_8_acc_6: 0.0049 - dense_8_acc_7: 0.9125 - dense_8_acc_8: 0.1589 - dense_8_acc_9: 0.074 - ETA: 8s - loss: 19.6019 - dense_8_loss: 2.6813 - dense_8_acc: 0.1766 - dense_8_acc_1: 0.5155 - dense_8_acc_2: 0.2459 - dense_8_acc_3: 0.0636 - dense_8_acc_4: 0.9587 - dense_8_acc_5: 0.0682 - dense_8_acc_6: 0.0057 - dense_8_acc_7: 0.9138 - dense_8_acc_8: 0.1616 - dense_8_acc_9: 0.075 - ETA: 7s - loss: 19.5426 - dense_8_loss: 2.6782 - dense_8_acc: 0.1847 - dense_8_acc_1: 0.5181 - dense_8_acc_2: 0.2460 - dense_8_acc_3: 0.0640 - dense_8_acc_4: 0.9595 - dense_8_acc_5: 0.0774 - dense_8_acc_6: 0.0067 - dense_8_acc_7: 0.9149 - dense_8_acc_8: 0.1646 - dense_8_acc_9: 0.0767"
     ]
    },
    {
     "name": "stdout",
     "output_type": "stream",
     "text": [
      " 8600/10000 [========================>.....] - ETA: 7s - loss: 19.4833 - dense_8_loss: 2.6717 - dense_8_acc: 0.1912 - dense_8_acc_1: 0.5221 - dense_8_acc_2: 0.2481 - dense_8_acc_3: 0.0634 - dense_8_acc_4: 0.9602 - dense_8_acc_5: 0.0866 - dense_8_acc_6: 0.0067 - dense_8_acc_7: 0.9164 - dense_8_acc_8: 0.1690 - dense_8_acc_9: 0.077 - ETA: 7s - loss: 19.4190 - dense_8_loss: 2.6662 - dense_8_acc: 0.1992 - dense_8_acc_1: 0.5283 - dense_8_acc_2: 0.2498 - dense_8_acc_3: 0.0631 - dense_8_acc_4: 0.9608 - dense_8_acc_5: 0.0978 - dense_8_acc_6: 0.0069 - dense_8_acc_7: 0.9178 - dense_8_acc_8: 0.1725 - dense_8_acc_9: 0.079 - ETA: 7s - loss: 19.3552 - dense_8_loss: 2.6644 - dense_8_acc: 0.2067 - dense_8_acc_1: 0.5342 - dense_8_acc_2: 0.2512 - dense_8_acc_3: 0.0632 - dense_8_acc_4: 0.9615 - dense_8_acc_5: 0.1087 - dense_8_acc_6: 0.0077 - dense_8_acc_7: 0.9192 - dense_8_acc_8: 0.1737 - dense_8_acc_9: 0.080 - ETA: 6s - loss: 19.2884 - dense_8_loss: 2.6612 - dense_8_acc: 0.2125 - dense_8_acc_1: 0.5384 - dense_8_acc_2: 0.2534 - dense_8_acc_3: 0.0631 - dense_8_acc_4: 0.9621 - dense_8_acc_5: 0.1195 - dense_8_acc_6: 0.0080 - dense_8_acc_7: 0.9203 - dense_8_acc_8: 0.1782 - dense_8_acc_9: 0.081 - ETA: 6s - loss: 19.2219 - dense_8_loss: 2.6571 - dense_8_acc: 0.2195 - dense_8_acc_1: 0.5429 - dense_8_acc_2: 0.2542 - dense_8_acc_3: 0.0623 - dense_8_acc_4: 0.9627 - dense_8_acc_5: 0.1277 - dense_8_acc_6: 0.0087 - dense_8_acc_7: 0.9213 - dense_8_acc_8: 0.1832 - dense_8_acc_9: 0.082 - ETA: 6s - loss: 19.1515 - dense_8_loss: 2.6546 - dense_8_acc: 0.2262 - dense_8_acc_1: 0.5476 - dense_8_acc_2: 0.2557 - dense_8_acc_3: 0.0629 - dense_8_acc_4: 0.9633 - dense_8_acc_5: 0.1370 - dense_8_acc_6: 0.0090 - dense_8_acc_7: 0.9225 - dense_8_acc_8: 0.1860 - dense_8_acc_9: 0.082 - ETA: 6s - loss: 19.0748 - dense_8_loss: 2.6489 - dense_8_acc: 0.2331 - dense_8_acc_1: 0.5520 - dense_8_acc_2: 0.2573 - dense_8_acc_3: 0.0633 - dense_8_acc_4: 0.9639 - dense_8_acc_5: 0.1453 - dense_8_acc_6: 0.0091 - dense_8_acc_7: 0.9238 - dense_8_acc_8: 0.1898 - dense_8_acc_9: 0.084 - ETA: 5s - loss: 19.0028 - dense_8_loss: 2.6451 - dense_8_acc: 0.2382 - dense_8_acc_1: 0.5563 - dense_8_acc_2: 0.2591 - dense_8_acc_3: 0.0631 - dense_8_acc_4: 0.9645 - dense_8_acc_5: 0.1545 - dense_8_acc_6: 0.0097 - dense_8_acc_7: 0.9249 - dense_8_acc_8: 0.1926 - dense_8_acc_9: 0.085 - ETA: 5s - loss: 18.9229 - dense_8_loss: 2.6397 - dense_8_acc: 0.2445 - dense_8_acc_1: 0.5617 - dense_8_acc_2: 0.2605 - dense_8_acc_3: 0.0633 - dense_8_acc_4: 0.9650 - dense_8_acc_5: 0.1644 - dense_8_acc_6: 0.0102 - dense_8_acc_7: 0.9261 - dense_8_acc_8: 0.1968 - dense_8_acc_9: 0.086 - ETA: 5s - loss: 18.8460 - dense_8_loss: 2.6342 - dense_8_acc: 0.2494 - dense_8_acc_1: 0.5654 - dense_8_acc_2: 0.2616 - dense_8_acc_3: 0.0649 - dense_8_acc_4: 0.9655 - dense_8_acc_5: 0.1739 - dense_8_acc_6: 0.0107 - dense_8_acc_7: 0.9272 - dense_8_acc_8: 0.2001 - dense_8_acc_9: 0.087 - ETA: 5s - loss: 18.7658 - dense_8_loss: 2.6293 - dense_8_acc: 0.2546 - dense_8_acc_1: 0.5696 - dense_8_acc_2: 0.2628 - dense_8_acc_3: 0.0659 - dense_8_acc_4: 0.9660 - dense_8_acc_5: 0.1824 - dense_8_acc_6: 0.0115 - dense_8_acc_7: 0.9282 - dense_8_acc_8: 0.2016 - dense_8_acc_9: 0.087 - ETA: 5s - loss: 18.6845 - dense_8_loss: 2.6250 - dense_8_acc: 0.2614 - dense_8_acc_1: 0.5739 - dense_8_acc_2: 0.2642 - dense_8_acc_3: 0.0661 - dense_8_acc_4: 0.9665 - dense_8_acc_5: 0.1910 - dense_8_acc_6: 0.0123 - dense_8_acc_7: 0.9293 - dense_8_acc_8: 0.2052 - dense_8_acc_9: 0.088 - ETA: 4s - loss: 18.6011 - dense_8_loss: 2.6197 - dense_8_acc: 0.2696 - dense_8_acc_1: 0.5781 - dense_8_acc_2: 0.2649 - dense_8_acc_3: 0.0664 - dense_8_acc_4: 0.9670 - dense_8_acc_5: 0.2001 - dense_8_acc_6: 0.0130 - dense_8_acc_7: 0.9303 - dense_8_acc_8: 0.2084 - dense_8_acc_9: 0.088 - ETA: 4s - loss: 18.5151 - dense_8_loss: 2.6157 - dense_8_acc: 0.2773 - dense_8_acc_1: 0.5825 - dense_8_acc_2: 0.2665 - dense_8_acc_3: 0.0670 - dense_8_acc_4: 0.9675 - dense_8_acc_5: 0.2086 - dense_8_acc_6: 0.0144 - dense_8_acc_7: 0.9313 - dense_8_acc_8: 0.2123 - dense_8_acc_9: 0.089 - ETA: 4s - loss: 18.4326 - dense_8_loss: 2.6113 - dense_8_acc: 0.2832 - dense_8_acc_1: 0.5860 - dense_8_acc_2: 0.2675 - dense_8_acc_3: 0.0676 - dense_8_acc_4: 0.9679 - dense_8_acc_5: 0.2154 - dense_8_acc_6: 0.0161 - dense_8_acc_7: 0.9322 - dense_8_acc_8: 0.2146 - dense_8_acc_9: 0.089 - ETA: 4s - loss: 18.3520 - dense_8_loss: 2.6072 - dense_8_acc: 0.2899 - dense_8_acc_1: 0.5897 - dense_8_acc_2: 0.2685 - dense_8_acc_3: 0.0673 - dense_8_acc_4: 0.9684 - dense_8_acc_5: 0.2237 - dense_8_acc_6: 0.0171 - dense_8_acc_7: 0.9332 - dense_8_acc_8: 0.2168 - dense_8_acc_9: 0.089 - ETA: 4s - loss: 18.2692 - dense_8_loss: 2.6036 - dense_8_acc: 0.2974 - dense_8_acc_1: 0.5938 - dense_8_acc_2: 0.2696 - dense_8_acc_3: 0.0688 - dense_8_acc_4: 0.9688 - dense_8_acc_5: 0.2307 - dense_8_acc_6: 0.0184 - dense_8_acc_7: 0.9341 - dense_8_acc_8: 0.2211 - dense_8_acc_9: 0.090 - ETA: 3s - loss: 18.1868 - dense_8_loss: 2.5994 - dense_8_acc: 0.3057 - dense_8_acc_1: 0.5969 - dense_8_acc_2: 0.2713 - dense_8_acc_3: 0.0693 - dense_8_acc_4: 0.9692 - dense_8_acc_5: 0.2384 - dense_8_acc_6: 0.0195 - dense_8_acc_7: 0.9349 - dense_8_acc_8: 0.2241 - dense_8_acc_9: 0.090 - ETA: 3s - loss: 18.1043 - dense_8_loss: 2.5958 - dense_8_acc: 0.3117 - dense_8_acc_1: 0.6007 - dense_8_acc_2: 0.2730 - dense_8_acc_3: 0.0701 - dense_8_acc_4: 0.9696 - dense_8_acc_5: 0.2454 - dense_8_acc_6: 0.0201 - dense_8_acc_7: 0.9358 - dense_8_acc_8: 0.2267 - dense_8_acc_9: 0.090 - ETA: 3s - loss: 18.0221 - dense_8_loss: 2.5920 - dense_8_acc: 0.3184 - dense_8_acc_1: 0.6038 - dense_8_acc_2: 0.2740 - dense_8_acc_3: 0.0703 - dense_8_acc_4: 0.9700 - dense_8_acc_5: 0.2527 - dense_8_acc_6: 0.0218 - dense_8_acc_7: 0.9366 - dense_8_acc_8: 0.2300 - dense_8_acc_9: 0.092 - ETA: 3s - loss: 17.9367 - dense_8_loss: 2.5887 - dense_8_acc: 0.3264 - dense_8_acc_1: 0.6083 - dense_8_acc_2: 0.2762 - dense_8_acc_3: 0.0708 - dense_8_acc_4: 0.9704 - dense_8_acc_5: 0.2587 - dense_8_acc_6: 0.0241 - dense_8_acc_7: 0.9374 - dense_8_acc_8: 0.2323 - dense_8_acc_9: 0.092 - ETA: 3s - loss: 17.8582 - dense_8_loss: 2.5855 - dense_8_acc: 0.3343 - dense_8_acc_1: 0.6122 - dense_8_acc_2: 0.2776 - dense_8_acc_3: 0.0716 - dense_8_acc_4: 0.9708 - dense_8_acc_5: 0.2653 - dense_8_acc_6: 0.0261 - dense_8_acc_7: 0.9382 - dense_8_acc_8: 0.2344 - dense_8_acc_9: 0.092 - ETA: 3s - loss: 17.7781 - dense_8_loss: 2.5812 - dense_8_acc: 0.3418 - dense_8_acc_1: 0.6162 - dense_8_acc_2: 0.2791 - dense_8_acc_3: 0.0730 - dense_8_acc_4: 0.9711 - dense_8_acc_5: 0.2710 - dense_8_acc_6: 0.0280 - dense_8_acc_7: 0.9390 - dense_8_acc_8: 0.2360 - dense_8_acc_9: 0.092 - ETA: 2s - loss: 17.6982 - dense_8_loss: 2.5780 - dense_8_acc: 0.3488 - dense_8_acc_1: 0.6198 - dense_8_acc_2: 0.2807 - dense_8_acc_3: 0.0742 - dense_8_acc_4: 0.9715 - dense_8_acc_5: 0.2760 - dense_8_acc_6: 0.0306 - dense_8_acc_7: 0.9398 - dense_8_acc_8: 0.2383 - dense_8_acc_9: 0.092 - ETA: 2s - loss: 17.6141 - dense_8_loss: 2.5737 - dense_8_acc: 0.3557 - dense_8_acc_1: 0.6235 - dense_8_acc_2: 0.2823 - dense_8_acc_3: 0.0756 - dense_8_acc_4: 0.9718 - dense_8_acc_5: 0.2824 - dense_8_acc_6: 0.0337 - dense_8_acc_7: 0.9405 - dense_8_acc_8: 0.2415 - dense_8_acc_9: 0.092 - ETA: 2s - loss: 17.5355 - dense_8_loss: 2.5710 - dense_8_acc: 0.3628 - dense_8_acc_1: 0.6276 - dense_8_acc_2: 0.2830 - dense_8_acc_3: 0.0767 - dense_8_acc_4: 0.9722 - dense_8_acc_5: 0.2877 - dense_8_acc_6: 0.0359 - dense_8_acc_7: 0.9412 - dense_8_acc_8: 0.2433 - dense_8_acc_9: 0.092 - ETA: 2s - loss: 17.4605 - dense_8_loss: 2.5683 - dense_8_acc: 0.3696 - dense_8_acc_1: 0.6312 - dense_8_acc_2: 0.2850 - dense_8_acc_3: 0.0769 - dense_8_acc_4: 0.9725 - dense_8_acc_5: 0.2938 - dense_8_acc_6: 0.0367 - dense_8_acc_7: 0.9419 - dense_8_acc_8: 0.2449 - dense_8_acc_9: 0.093 - ETA: 2s - loss: 17.3861 - dense_8_loss: 2.5644 - dense_8_acc: 0.3762 - dense_8_acc_1: 0.6346 - dense_8_acc_2: 0.2869 - dense_8_acc_3: 0.0771 - dense_8_acc_4: 0.9728 - dense_8_acc_5: 0.2986 - dense_8_acc_6: 0.0382 - dense_8_acc_7: 0.9426 - dense_8_acc_8: 0.2464 - dense_8_acc_9: 0.094 - ETA: 2s - loss: 17.3132 - dense_8_loss: 2.5615 - dense_8_acc: 0.3820 - dense_8_acc_1: 0.6376 - dense_8_acc_2: 0.2877 - dense_8_acc_3: 0.0773 - dense_8_acc_4: 0.9731 - dense_8_acc_5: 0.3036 - dense_8_acc_6: 0.0407 - dense_8_acc_7: 0.9433 - dense_8_acc_8: 0.2477 - dense_8_acc_9: 0.0942"
     ]
    },
    {
     "name": "stdout",
     "output_type": "stream",
     "text": [
      "10000/10000 [==============================] - ETA: 1s - loss: 17.2401 - dense_8_loss: 2.5587 - dense_8_acc: 0.3884 - dense_8_acc_1: 0.6409 - dense_8_acc_2: 0.2900 - dense_8_acc_3: 0.0776 - dense_8_acc_4: 0.9734 - dense_8_acc_5: 0.3080 - dense_8_acc_6: 0.0428 - dense_8_acc_7: 0.9439 - dense_8_acc_8: 0.2497 - dense_8_acc_9: 0.094 - ETA: 1s - loss: 17.1655 - dense_8_loss: 2.5558 - dense_8_acc: 0.3947 - dense_8_acc_1: 0.6442 - dense_8_acc_2: 0.2916 - dense_8_acc_3: 0.0785 - dense_8_acc_4: 0.9737 - dense_8_acc_5: 0.3115 - dense_8_acc_6: 0.0455 - dense_8_acc_7: 0.9445 - dense_8_acc_8: 0.2526 - dense_8_acc_9: 0.095 - ETA: 1s - loss: 17.0951 - dense_8_loss: 2.5533 - dense_8_acc: 0.4007 - dense_8_acc_1: 0.6474 - dense_8_acc_2: 0.2926 - dense_8_acc_3: 0.0796 - dense_8_acc_4: 0.9740 - dense_8_acc_5: 0.3172 - dense_8_acc_6: 0.0463 - dense_8_acc_7: 0.9452 - dense_8_acc_8: 0.2552 - dense_8_acc_9: 0.095 - ETA: 1s - loss: 17.0257 - dense_8_loss: 2.5503 - dense_8_acc: 0.4060 - dense_8_acc_1: 0.6503 - dense_8_acc_2: 0.2944 - dense_8_acc_3: 0.0798 - dense_8_acc_4: 0.9743 - dense_8_acc_5: 0.3213 - dense_8_acc_6: 0.0483 - dense_8_acc_7: 0.9458 - dense_8_acc_8: 0.2568 - dense_8_acc_9: 0.095 - ETA: 1s - loss: 16.9545 - dense_8_loss: 2.5464 - dense_8_acc: 0.4119 - dense_8_acc_1: 0.6536 - dense_8_acc_2: 0.2968 - dense_8_acc_3: 0.0804 - dense_8_acc_4: 0.9746 - dense_8_acc_5: 0.3257 - dense_8_acc_6: 0.0505 - dense_8_acc_7: 0.9464 - dense_8_acc_8: 0.2587 - dense_8_acc_9: 0.096 - ETA: 1s - loss: 16.8847 - dense_8_loss: 2.5443 - dense_8_acc: 0.4178 - dense_8_acc_1: 0.6570 - dense_8_acc_2: 0.2979 - dense_8_acc_3: 0.0811 - dense_8_acc_4: 0.9749 - dense_8_acc_5: 0.3304 - dense_8_acc_6: 0.0529 - dense_8_acc_7: 0.9470 - dense_8_acc_8: 0.2609 - dense_8_acc_9: 0.096 - ETA: 1s - loss: 16.8158 - dense_8_loss: 2.5413 - dense_8_acc: 0.4235 - dense_8_acc_1: 0.6604 - dense_8_acc_2: 0.2996 - dense_8_acc_3: 0.0816 - dense_8_acc_4: 0.9752 - dense_8_acc_5: 0.3345 - dense_8_acc_6: 0.0544 - dense_8_acc_7: 0.9475 - dense_8_acc_8: 0.2619 - dense_8_acc_9: 0.096 - ETA: 0s - loss: 16.7494 - dense_8_loss: 2.5384 - dense_8_acc: 0.4291 - dense_8_acc_1: 0.6636 - dense_8_acc_2: 0.3010 - dense_8_acc_3: 0.0819 - dense_8_acc_4: 0.9754 - dense_8_acc_5: 0.3389 - dense_8_acc_6: 0.0561 - dense_8_acc_7: 0.9481 - dense_8_acc_8: 0.2636 - dense_8_acc_9: 0.097 - ETA: 0s - loss: 16.6826 - dense_8_loss: 2.5344 - dense_8_acc: 0.4346 - dense_8_acc_1: 0.6662 - dense_8_acc_2: 0.3022 - dense_8_acc_3: 0.0829 - dense_8_acc_4: 0.9757 - dense_8_acc_5: 0.3429 - dense_8_acc_6: 0.0584 - dense_8_acc_7: 0.9486 - dense_8_acc_8: 0.2653 - dense_8_acc_9: 0.099 - ETA: 0s - loss: 16.6169 - dense_8_loss: 2.5320 - dense_8_acc: 0.4401 - dense_8_acc_1: 0.6693 - dense_8_acc_2: 0.3030 - dense_8_acc_3: 0.0833 - dense_8_acc_4: 0.9759 - dense_8_acc_5: 0.3477 - dense_8_acc_6: 0.0594 - dense_8_acc_7: 0.9492 - dense_8_acc_8: 0.2669 - dense_8_acc_9: 0.100 - ETA: 0s - loss: 16.5511 - dense_8_loss: 2.5289 - dense_8_acc: 0.4455 - dense_8_acc_1: 0.6723 - dense_8_acc_2: 0.3049 - dense_8_acc_3: 0.0840 - dense_8_acc_4: 0.9762 - dense_8_acc_5: 0.3521 - dense_8_acc_6: 0.0613 - dense_8_acc_7: 0.9497 - dense_8_acc_8: 0.2690 - dense_8_acc_9: 0.100 - ETA: 0s - loss: 16.4854 - dense_8_loss: 2.5266 - dense_8_acc: 0.4507 - dense_8_acc_1: 0.6752 - dense_8_acc_2: 0.3071 - dense_8_acc_3: 0.0843 - dense_8_acc_4: 0.9764 - dense_8_acc_5: 0.3555 - dense_8_acc_6: 0.0634 - dense_8_acc_7: 0.9502 - dense_8_acc_8: 0.2706 - dense_8_acc_9: 0.101 - ETA: 0s - loss: 16.4225 - dense_8_loss: 2.5239 - dense_8_acc: 0.4556 - dense_8_acc_1: 0.6781 - dense_8_acc_2: 0.3091 - dense_8_acc_3: 0.0845 - dense_8_acc_4: 0.9767 - dense_8_acc_5: 0.3602 - dense_8_acc_6: 0.0653 - dense_8_acc_7: 0.9507 - dense_8_acc_8: 0.2729 - dense_8_acc_9: 0.101 - 14s 1ms/step - loss: 16.3608 - dense_8_loss: 2.5213 - dense_8_acc: 0.4607 - dense_8_acc_1: 0.6810 - dense_8_acc_2: 0.3109 - dense_8_acc_3: 0.0857 - dense_8_acc_4: 0.9769 - dense_8_acc_5: 0.3634 - dense_8_acc_6: 0.0672 - dense_8_acc_7: 0.9512 - dense_8_acc_8: 0.2742 - dense_8_acc_9: 0.1026\n"
     ]
    },
    {
     "data": {
      "text/plain": [
       "<keras.callbacks.History at 0x12c76908>"
      ]
     },
     "execution_count": 48,
     "metadata": {},
     "output_type": "execute_result"
    }
   ],
   "source": [
    "model.fit([Xoh, s0, c0], outputs, epochs=1, batch_size=100)"
   ]
  },
  {
   "cell_type": "markdown",
   "metadata": {},
   "source": [
    "While training you can see the loss as well as the accuracy on each of the 10 positions of the output. The table below gives you an example of what the accuracies could be if the batch had 2 examples: \n",
    "\n",
    "<img src=\"images/table.png\" style=\"width:700;height:200px;\"> <br>\n",
    "<caption><center>Thus, `dense_2_acc_8: 0.89` means that you are predicting the 7th character of the output correctly 89% of the time in the current batch of data. </center></caption>\n",
    "\n",
    "\n",
    "We have run this model for longer, and saved the weights. Run the next cell to load our weights. (By training a model for several minutes, you should be able to obtain a model of similar accuracy, but loading our model will save you time.) "
   ]
  },
  {
   "cell_type": "code",
   "execution_count": 49,
   "metadata": {},
   "outputs": [
    {
     "ename": "ValueError",
     "evalue": "You are trying to load a weight file containing 4 layers into a model with 5 layers.",
     "output_type": "error",
     "traceback": [
      "\u001b[1;31m---------------------------------------------------------------------------\u001b[0m",
      "\u001b[1;31mValueError\u001b[0m                                Traceback (most recent call last)",
      "\u001b[1;32m<ipython-input-49-5adfa8e1d454>\u001b[0m in \u001b[0;36m<module>\u001b[1;34m()\u001b[0m\n\u001b[1;32m----> 1\u001b[1;33m \u001b[0mmodel\u001b[0m\u001b[1;33m.\u001b[0m\u001b[0mload_weights\u001b[0m\u001b[1;33m(\u001b[0m\u001b[1;34m'models/model.h5'\u001b[0m\u001b[1;33m)\u001b[0m\u001b[1;33m\u001b[0m\u001b[0m\n\u001b[0m",
      "\u001b[1;32md:\\program files\\python36\\lib\\site-packages\\keras\\engine\\network.py\u001b[0m in \u001b[0;36mload_weights\u001b[1;34m(self, filepath, by_name, skip_mismatch, reshape)\u001b[0m\n\u001b[0;32m   1178\u001b[0m             \u001b[1;32melse\u001b[0m\u001b[1;33m:\u001b[0m\u001b[1;33m\u001b[0m\u001b[0m\n\u001b[0;32m   1179\u001b[0m                 saving.load_weights_from_hdf5_group(\n\u001b[1;32m-> 1180\u001b[1;33m                     f, self.layers, reshape=reshape)\n\u001b[0m\u001b[0;32m   1181\u001b[0m \u001b[1;33m\u001b[0m\u001b[0m\n\u001b[0;32m   1182\u001b[0m     \u001b[1;32mdef\u001b[0m \u001b[0m_updated_config\u001b[0m\u001b[1;33m(\u001b[0m\u001b[0mself\u001b[0m\u001b[1;33m)\u001b[0m\u001b[1;33m:\u001b[0m\u001b[1;33m\u001b[0m\u001b[0m\n",
      "\u001b[1;32md:\\program files\\python36\\lib\\site-packages\\keras\\engine\\saving.py\u001b[0m in \u001b[0;36mload_weights_from_hdf5_group\u001b[1;34m(f, layers, reshape)\u001b[0m\n\u001b[0;32m    899\u001b[0m                          \u001b[1;34m'containing '\u001b[0m \u001b[1;33m+\u001b[0m \u001b[0mstr\u001b[0m\u001b[1;33m(\u001b[0m\u001b[0mlen\u001b[0m\u001b[1;33m(\u001b[0m\u001b[0mlayer_names\u001b[0m\u001b[1;33m)\u001b[0m\u001b[1;33m)\u001b[0m \u001b[1;33m+\u001b[0m\u001b[1;33m\u001b[0m\u001b[0m\n\u001b[0;32m    900\u001b[0m                          \u001b[1;34m' layers into a model with '\u001b[0m \u001b[1;33m+\u001b[0m\u001b[1;33m\u001b[0m\u001b[0m\n\u001b[1;32m--> 901\u001b[1;33m                          str(len(filtered_layers)) + ' layers.')\n\u001b[0m\u001b[0;32m    902\u001b[0m \u001b[1;33m\u001b[0m\u001b[0m\n\u001b[0;32m    903\u001b[0m     \u001b[1;31m# We batch weight value assignments in a single backend call\u001b[0m\u001b[1;33m\u001b[0m\u001b[1;33m\u001b[0m\u001b[0m\n",
      "\u001b[1;31mValueError\u001b[0m: You are trying to load a weight file containing 4 layers into a model with 5 layers."
     ]
    }
   ],
   "source": [
    "model.load_weights('models/model.h5')"
   ]
  },
  {
   "cell_type": "markdown",
   "metadata": {},
   "source": [
    "You can now see the results on new examples."
   ]
  },
  {
   "cell_type": "code",
   "execution_count": 30,
   "metadata": {},
   "outputs": [
    {
     "ename": "ValueError",
     "evalue": "Error when checking input: expected input_1 to have 3 dimensions, but got array with shape (37, 30)",
     "output_type": "error",
     "traceback": [
      "\u001b[1;31m---------------------------------------------------------------------------\u001b[0m",
      "\u001b[1;31mValueError\u001b[0m                                Traceback (most recent call last)",
      "\u001b[1;32m<ipython-input-30-ac7ef602615d>\u001b[0m in \u001b[0;36m<module>\u001b[1;34m()\u001b[0m\n\u001b[0;32m      4\u001b[0m     \u001b[0msource\u001b[0m \u001b[1;33m=\u001b[0m \u001b[0mstring_to_int\u001b[0m\u001b[1;33m(\u001b[0m\u001b[0mexample\u001b[0m\u001b[1;33m,\u001b[0m \u001b[0mTx\u001b[0m\u001b[1;33m,\u001b[0m \u001b[0mhuman_vocab\u001b[0m\u001b[1;33m)\u001b[0m\u001b[1;33m\u001b[0m\u001b[0m\n\u001b[0;32m      5\u001b[0m     \u001b[0msource\u001b[0m \u001b[1;33m=\u001b[0m \u001b[0mnp\u001b[0m\u001b[1;33m.\u001b[0m\u001b[0marray\u001b[0m\u001b[1;33m(\u001b[0m\u001b[0mlist\u001b[0m\u001b[1;33m(\u001b[0m\u001b[0mmap\u001b[0m\u001b[1;33m(\u001b[0m\u001b[1;32mlambda\u001b[0m \u001b[0mx\u001b[0m\u001b[1;33m:\u001b[0m \u001b[0mto_categorical\u001b[0m\u001b[1;33m(\u001b[0m\u001b[0mx\u001b[0m\u001b[1;33m,\u001b[0m \u001b[0mnum_classes\u001b[0m\u001b[1;33m=\u001b[0m\u001b[0mlen\u001b[0m\u001b[1;33m(\u001b[0m\u001b[0mhuman_vocab\u001b[0m\u001b[1;33m)\u001b[0m\u001b[1;33m)\u001b[0m\u001b[1;33m,\u001b[0m \u001b[0msource\u001b[0m\u001b[1;33m)\u001b[0m\u001b[1;33m)\u001b[0m\u001b[1;33m)\u001b[0m\u001b[1;33m.\u001b[0m\u001b[0mswapaxes\u001b[0m\u001b[1;33m(\u001b[0m\u001b[1;36m0\u001b[0m\u001b[1;33m,\u001b[0m\u001b[1;36m1\u001b[0m\u001b[1;33m)\u001b[0m\u001b[1;33m\u001b[0m\u001b[0m\n\u001b[1;32m----> 6\u001b[1;33m     \u001b[0mprediction\u001b[0m \u001b[1;33m=\u001b[0m \u001b[0mmodel\u001b[0m\u001b[1;33m.\u001b[0m\u001b[0mpredict\u001b[0m\u001b[1;33m(\u001b[0m\u001b[1;33m[\u001b[0m\u001b[0msource\u001b[0m\u001b[1;33m,\u001b[0m \u001b[0ms0\u001b[0m\u001b[1;33m,\u001b[0m \u001b[0mc0\u001b[0m\u001b[1;33m]\u001b[0m\u001b[1;33m)\u001b[0m\u001b[1;33m\u001b[0m\u001b[0m\n\u001b[0m\u001b[0;32m      7\u001b[0m     \u001b[0mprediction\u001b[0m \u001b[1;33m=\u001b[0m \u001b[0mnp\u001b[0m\u001b[1;33m.\u001b[0m\u001b[0margmax\u001b[0m\u001b[1;33m(\u001b[0m\u001b[0mprediction\u001b[0m\u001b[1;33m,\u001b[0m \u001b[0maxis\u001b[0m \u001b[1;33m=\u001b[0m \u001b[1;33m-\u001b[0m\u001b[1;36m1\u001b[0m\u001b[1;33m)\u001b[0m\u001b[1;33m\u001b[0m\u001b[0m\n\u001b[0;32m      8\u001b[0m     \u001b[0moutput\u001b[0m \u001b[1;33m=\u001b[0m \u001b[1;33m[\u001b[0m\u001b[0minv_machine_vocab\u001b[0m\u001b[1;33m[\u001b[0m\u001b[0mint\u001b[0m\u001b[1;33m(\u001b[0m\u001b[0mi\u001b[0m\u001b[1;33m)\u001b[0m\u001b[1;33m]\u001b[0m \u001b[1;32mfor\u001b[0m \u001b[0mi\u001b[0m \u001b[1;32min\u001b[0m \u001b[0mprediction\u001b[0m\u001b[1;33m]\u001b[0m\u001b[1;33m\u001b[0m\u001b[0m\n",
      "\u001b[1;32md:\\program files\\python36\\lib\\site-packages\\keras\\engine\\training.py\u001b[0m in \u001b[0;36mpredict\u001b[1;34m(self, x, batch_size, verbose, steps)\u001b[0m\n\u001b[0;32m   1150\u001b[0m                              'argument.')\n\u001b[0;32m   1151\u001b[0m         \u001b[1;31m# Validate user data.\u001b[0m\u001b[1;33m\u001b[0m\u001b[1;33m\u001b[0m\u001b[0m\n\u001b[1;32m-> 1152\u001b[1;33m         \u001b[0mx\u001b[0m\u001b[1;33m,\u001b[0m \u001b[0m_\u001b[0m\u001b[1;33m,\u001b[0m \u001b[0m_\u001b[0m \u001b[1;33m=\u001b[0m \u001b[0mself\u001b[0m\u001b[1;33m.\u001b[0m\u001b[0m_standardize_user_data\u001b[0m\u001b[1;33m(\u001b[0m\u001b[0mx\u001b[0m\u001b[1;33m)\u001b[0m\u001b[1;33m\u001b[0m\u001b[0m\n\u001b[0m\u001b[0;32m   1153\u001b[0m         \u001b[1;32mif\u001b[0m \u001b[0mself\u001b[0m\u001b[1;33m.\u001b[0m\u001b[0mstateful\u001b[0m\u001b[1;33m:\u001b[0m\u001b[1;33m\u001b[0m\u001b[0m\n\u001b[0;32m   1154\u001b[0m             \u001b[1;32mif\u001b[0m \u001b[0mx\u001b[0m\u001b[1;33m[\u001b[0m\u001b[1;36m0\u001b[0m\u001b[1;33m]\u001b[0m\u001b[1;33m.\u001b[0m\u001b[0mshape\u001b[0m\u001b[1;33m[\u001b[0m\u001b[1;36m0\u001b[0m\u001b[1;33m]\u001b[0m \u001b[1;33m>\u001b[0m \u001b[0mbatch_size\u001b[0m \u001b[1;32mand\u001b[0m \u001b[0mx\u001b[0m\u001b[1;33m[\u001b[0m\u001b[1;36m0\u001b[0m\u001b[1;33m]\u001b[0m\u001b[1;33m.\u001b[0m\u001b[0mshape\u001b[0m\u001b[1;33m[\u001b[0m\u001b[1;36m0\u001b[0m\u001b[1;33m]\u001b[0m \u001b[1;33m%\u001b[0m \u001b[0mbatch_size\u001b[0m \u001b[1;33m!=\u001b[0m \u001b[1;36m0\u001b[0m\u001b[1;33m:\u001b[0m\u001b[1;33m\u001b[0m\u001b[0m\n",
      "\u001b[1;32md:\\program files\\python36\\lib\\site-packages\\keras\\engine\\training.py\u001b[0m in \u001b[0;36m_standardize_user_data\u001b[1;34m(self, x, y, sample_weight, class_weight, check_array_lengths, batch_size)\u001b[0m\n\u001b[0;32m    752\u001b[0m             \u001b[0mfeed_input_shapes\u001b[0m\u001b[1;33m,\u001b[0m\u001b[1;33m\u001b[0m\u001b[0m\n\u001b[0;32m    753\u001b[0m             \u001b[0mcheck_batch_axis\u001b[0m\u001b[1;33m=\u001b[0m\u001b[1;32mFalse\u001b[0m\u001b[1;33m,\u001b[0m  \u001b[1;31m# Don't enforce the batch size.\u001b[0m\u001b[1;33m\u001b[0m\u001b[0m\n\u001b[1;32m--> 754\u001b[1;33m             exception_prefix='input')\n\u001b[0m\u001b[0;32m    755\u001b[0m \u001b[1;33m\u001b[0m\u001b[0m\n\u001b[0;32m    756\u001b[0m         \u001b[1;32mif\u001b[0m \u001b[0my\u001b[0m \u001b[1;32mis\u001b[0m \u001b[1;32mnot\u001b[0m \u001b[1;32mNone\u001b[0m\u001b[1;33m:\u001b[0m\u001b[1;33m\u001b[0m\u001b[0m\n",
      "\u001b[1;32md:\\program files\\python36\\lib\\site-packages\\keras\\engine\\training_utils.py\u001b[0m in \u001b[0;36mstandardize_input_data\u001b[1;34m(data, names, shapes, check_batch_axis, exception_prefix)\u001b[0m\n\u001b[0;32m    124\u001b[0m                         \u001b[1;34m': expected '\u001b[0m \u001b[1;33m+\u001b[0m \u001b[0mnames\u001b[0m\u001b[1;33m[\u001b[0m\u001b[0mi\u001b[0m\u001b[1;33m]\u001b[0m \u001b[1;33m+\u001b[0m \u001b[1;34m' to have '\u001b[0m \u001b[1;33m+\u001b[0m\u001b[1;33m\u001b[0m\u001b[0m\n\u001b[0;32m    125\u001b[0m                         \u001b[0mstr\u001b[0m\u001b[1;33m(\u001b[0m\u001b[0mlen\u001b[0m\u001b[1;33m(\u001b[0m\u001b[0mshape\u001b[0m\u001b[1;33m)\u001b[0m\u001b[1;33m)\u001b[0m \u001b[1;33m+\u001b[0m \u001b[1;34m' dimensions, but got array '\u001b[0m\u001b[1;33m\u001b[0m\u001b[0m\n\u001b[1;32m--> 126\u001b[1;33m                         'with shape ' + str(data_shape))\n\u001b[0m\u001b[0;32m    127\u001b[0m                 \u001b[1;32mif\u001b[0m \u001b[1;32mnot\u001b[0m \u001b[0mcheck_batch_axis\u001b[0m\u001b[1;33m:\u001b[0m\u001b[1;33m\u001b[0m\u001b[0m\n\u001b[0;32m    128\u001b[0m                     \u001b[0mdata_shape\u001b[0m \u001b[1;33m=\u001b[0m \u001b[0mdata_shape\u001b[0m\u001b[1;33m[\u001b[0m\u001b[1;36m1\u001b[0m\u001b[1;33m:\u001b[0m\u001b[1;33m]\u001b[0m\u001b[1;33m\u001b[0m\u001b[0m\n",
      "\u001b[1;31mValueError\u001b[0m: Error when checking input: expected input_1 to have 3 dimensions, but got array with shape (37, 30)"
     ]
    }
   ],
   "source": [
    "EXAMPLES = ['3 May 1979', '5 April 09', '21th of August 2016', 'Tue 10 Jul 2007', 'Saturday May 9 2018', 'March 3 2001', 'March 3rd 2001', '1 March 2001']\n",
    "for example in EXAMPLES:\n",
    "    \n",
    "    source = string_to_int(example, Tx, human_vocab)\n",
    "    source = np.array(list(map(lambda x: to_categorical(x, num_classes=len(human_vocab)), source))).swapaxes(0,1)\n",
    "    prediction = model.predict([source, s0, c0])\n",
    "    prediction = np.argmax(prediction, axis = -1)\n",
    "    output = [inv_machine_vocab[int(i)] for i in prediction]\n",
    "    \n",
    "    print(\"source:\", example)\n",
    "    print(\"output:\", ''.join(output))"
   ]
  },
  {
   "cell_type": "markdown",
   "metadata": {},
   "source": [
    "You can also change these examples to test with your own examples. The next part will give you a better sense on what the attention mechanism is doing--i.e., what part of the input the network is paying attention to when generating a particular output character. "
   ]
  },
  {
   "cell_type": "markdown",
   "metadata": {},
   "source": [
    "## 3 - Visualizing Attention (Optional / Ungraded)\n",
    "\n",
    "Since the problem has a fixed output length of 10, it is also possible to carry out this task using 10 different softmax units to generate the 10 characters of the output. But one advantage of the attention model is that each part of the output (say the month) knows it needs to depend only on a small part of the input (the characters in the input giving the month). We can  visualize what part of the output is looking at what part of the input.\n",
    "\n",
    "Consider the task of translating \"Saturday 9 May 2018\" to \"2018-05-09\". If we visualize the computed $\\alpha^{\\langle t, t' \\rangle}$ we get this: \n",
    "\n",
    "<img src=\"images/date_attention.png\" style=\"width:600;height:300px;\"> <br>\n",
    "<caption><center> **Figure 8**: Full Attention Map</center></caption>\n",
    "\n",
    "Notice how the output ignores the \"Saturday\" portion of the input. None of the output timesteps are paying much attention to that portion of the input. We see also that 9 has been translated as 09 and May has been correctly translated into 05, with the output paying attention to the parts of the input it needs to to make the translation. The year mostly requires it to pay attention to the input's \"18\" in order to generate \"2018.\" \n",
    "\n"
   ]
  },
  {
   "cell_type": "markdown",
   "metadata": {},
   "source": [
    "### 3.1 - Getting the activations from the network\n",
    "\n",
    "Lets now visualize the attention values in your network. We'll propagate an example through the network, then visualize the values of $\\alpha^{\\langle t, t' \\rangle}$. \n",
    "\n",
    "To figure out where the attention values are located, let's start by printing a summary of the model ."
   ]
  },
  {
   "cell_type": "code",
   "execution_count": null,
   "metadata": {
    "collapsed": true
   },
   "outputs": [],
   "source": [
    "model.summary()"
   ]
  },
  {
   "cell_type": "markdown",
   "metadata": {},
   "source": [
    "Navigate through the output of `model.summary()` above. You can see that the layer named `attention_weights` outputs the `alphas` of shape (m, 30, 1) before `dot_2` computes the context vector for every time step $t = 0, \\ldots, T_y-1$. Lets get the activations from this layer.\n",
    "\n",
    "The function `attention_map()` pulls out the attention values from your model and plots them."
   ]
  },
  {
   "cell_type": "code",
   "execution_count": null,
   "metadata": {
    "collapsed": true,
    "scrolled": false
   },
   "outputs": [],
   "source": [
    "attention_map = plot_attention_map(model, human_vocab, inv_machine_vocab, \"Tuesday April 08 1993\", num = 6, n_s = 64)"
   ]
  },
  {
   "cell_type": "markdown",
   "metadata": {},
   "source": [
    "On the generated plot you can observe the values of the attention weights for each character of the predicted output. Examine this plot and check that where the network is paying attention makes sense to you.\n",
    "\n",
    "In the date translation application, you will observe that most of the time attention helps predict the year, and hasn't much impact on predicting the day/month."
   ]
  },
  {
   "cell_type": "markdown",
   "metadata": {},
   "source": [
    "### Congratulations!\n",
    "\n",
    "\n",
    "You have come to the end of this assignment \n",
    "\n",
    "<font color='blue'> **Here's what you should remember from this notebook**:\n",
    "\n",
    "- Machine translation models can be used to map from one sequence to another. They are useful not just for translating human languages (like French->English) but also for tasks like date format translation. \n",
    "- An attention mechanism allows a network to focus on the most relevant parts of the input when producing a specific part of the output. \n",
    "- A network using an attention mechanism can translate from inputs of length $T_x$ to outputs of length $T_y$, where $T_x$ and $T_y$ can be different. \n",
    "- You can visualize attention weights $\\alpha^{\\langle t,t' \\rangle}$ to see what the network is paying attention to while generating each output."
   ]
  },
  {
   "cell_type": "markdown",
   "metadata": {},
   "source": [
    "Congratulations on finishing this assignment! You are now able to implement an attention model and use it to learn complex mappings from one sequence to another. "
   ]
  }
 ],
 "metadata": {
  "coursera": {
   "course_slug": "nlp-sequence-models",
   "graded_item_id": "n16CQ",
   "launcher_item_id": "npjGi"
  },
  "kernelspec": {
   "display_name": "Python 3",
   "language": "python",
   "name": "python3"
  },
  "language_info": {
   "codemirror_mode": {
    "name": "ipython",
    "version": 3
   },
   "file_extension": ".py",
   "mimetype": "text/x-python",
   "name": "python",
   "nbconvert_exporter": "python",
   "pygments_lexer": "ipython3",
   "version": "3.6.3"
  }
 },
 "nbformat": 4,
 "nbformat_minor": 2
}
